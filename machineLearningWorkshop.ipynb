{
 "cells": [
  {
   "cell_type": "raw",
   "id": "0849ce95-ad9e-422c-8e6b-4a6734c6c548",
   "metadata": {},
   "source": [
    "---\n",
    "title: \"Machine Learning\"\n",
    "toc: true\n",
    "toc-title: List of Contents\n",
    "execute:\n",
    "  enabled: true\n",
    "format: \n",
    "  html:\n",
    "    code-fold: true\n",
    "crossref:\n",
    "  chapters: true\n",
    "jupyter: python3\n",
    "---"
   ]
  },
  {
   "cell_type": "markdown",
   "id": "4fd37c79-e482-40fe-aa34-df9857009949",
   "metadata": {},
   "source": [
    "## What is machine learning? {#sec-MachineLearning}\n",
    "Have you heard about machine learning? What does it sound like it might be?\n",
    "\n",
    "Where do you think is machine learning used, or where can you find instances of it in action?"
   ]
  },
  {
   "cell_type": "raw",
   "id": "b02b24fc-e5ef-4ef8-8278-bce958cd8662",
   "metadata": {},
   "source": [
    "::: {.callout-tip collapse=\"true\"}\n",
    "\n",
    "## Expand To Learn About Machine Learning\n",
    "\n",
    "**Machine Learning** is a field of **Artificial Intelligence (AI)** intended to build machines or computer systems that learn on their own.\n",
    "\n",
    "**Machine Learning**  algorithms identify **patterns** in observed data, build **models** that attempt to explain the world, and make **predictions** without being programmed with explicit rules.\n",
    "\n",
    ":::"
   ]
  },
  {
   "cell_type": "markdown",
   "id": "ffd825b6-002c-415c-982d-794d65cc69d2",
   "metadata": {},
   "source": [
    "## Exploring Machine Learning models with danceON\n",
    "\n",
    "We have created a pre-trained machine learning model using a tool called [Google Teachable Machine](https://teachablemachine.withgoogle.com/) and you will play and experiment with the model using [danceON](https://dancinganddabbing.github.io/danceONml/) to figure out what the model does.\n",
    "\n",
    "The model is packaged in the following link."
   ]
  },
  {
   "cell_type": "code",
   "execution_count": 1,
   "id": "daf28fc5-091e-40be-96cc-da710aca34ac",
   "metadata": {
    "tags": []
   },
   "outputs": [],
   "source": [
    "#| eval: false\n",
    "#| code-fold: false\n",
    "https://teachablemachine.withgoogle.com/models/nooe2OKZj/"
   ]
  },
  {
   "cell_type": "markdown",
   "id": "d3342290-8671-4299-983e-d4728b8675ba",
   "metadata": {},
   "source": [
    "To use the model link above, copy the link. \n",
    "\n",
    "Open [danceON](https://dancinganddabbing.github.io/danceONml/) in a separate browser window/tab and click on “Controls” in the upper-right of the interface, to bring up additional options. \n",
    "\n",
    "Paste the link you copied into the field labeled “Machine Learning Model” (highlighted in blue below). Leave all other options untouched."
   ]
  },
  {
   "cell_type": "markdown",
   "id": "5204358a-ff15-4e35-8eb0-561e367f3879",
   "metadata": {
    "tags": []
   },
   "source": [
    "![Control icon](./asset/interface/controlButton.png) \n",
    "\n",
    "![Instruction on How to Use Google's Teachable Machine in danceON](./asset/machineLearning/linkPaste.png)"
   ]
  },
  {
   "cell_type": "markdown",
   "id": "bef8d0ea-29eb-4113-8ef2-3f313f96e3ae",
   "metadata": {},
   "source": [
    "Additionally, turn on the webcam (highlighted in green above). \n",
    "**Expand** and copy the code below into the danceON code editor."
   ]
  },
  {
   "cell_type": "code",
   "execution_count": 2,
   "id": "741a33c2-fbc4-47d2-be98-9a07796bdb82",
   "metadata": {
    "tags": []
   },
   "outputs": [],
   "source": [
    "#| eval: false\n",
    "#| code-fold: true\n",
    "(pose, poseHistory, tm) => [\n",
    "    \n",
    "\t// Left wing 1\n",
    "\t{\n",
    "    \t\twhat: 'triangle',\n",
    "\t    \twhen: tm[0].probability > 0.70,\n",
    "\t    \twhere: {\n",
    "\t        \tx1: pose.leftShoulder.x,\n",
    "\t        \ty1: pose.leftShoulder.y,\n",
    "\t        \tx2: pose.leftEar.x,\n",
    "\t        \ty2: (pose.nose.y + pose.leftShoulder.y) / 2,\n",
    "\t        \tx3: (pose.leftElbow.x + 100),\n",
    "\t        \ty3: (pose.leftEar.y - 50)\n",
    "\t    \t},\n",
    "\t    \thow: {\n",
    "\t        \tfill: 'cyan'\n",
    "\t    \t}\n",
    "\t},\n",
    "    \n",
    "\t// Right wing 1\n",
    "\t{\n",
    "\t    \twhat: 'triangle',\n",
    "\t    \twhen: tm[0].probability > 0.70,\n",
    "\t    \twhere: {\n",
    "\t        \tx1: pose.rightShoulder.x,\n",
    "\t        \ty1: pose.rightShoulder.y,\n",
    "\t        \tx2: pose.rightEar.x,\n",
    "\t        \ty2: (pose.nose.y + pose.rightShoulder.y) / 2,\n",
    "\t        \tx3: (pose.rightElbow.x - 100),\n",
    "\t        \ty3: (pose.rightEar.y - 50)\n",
    "\t    \t},\n",
    "\t    \thow: {\n",
    "\t        \tfill: 'cyan'\n",
    "\t    \t}\n",
    "\t},\n",
    "    \n",
    "\t// Left wing 2\n",
    "\t{\n",
    "\t    \twhat: 'triangle',\n",
    "\t    \twhen: tm[1].probability > 0.70,\n",
    "\t    \twhere: {\n",
    "\t        \tx1: pose.leftShoulder.x,\n",
    "\t        \ty1: pose.leftShoulder.y,\n",
    "\t        \tx2: pose.leftShoulder.x + (width / 4),\n",
    "\t        \ty2: ((pose.nose.y + pose.leftShoulder.y) / 2) + 50,\n",
    "\t        \tx3: (pose.nose.x + (width / 2)),\n",
    "\t        \ty3: (pose.leftHip.y + 100)\n",
    "\t    \t},\n",
    "\t    \thow: {\n",
    "\t        \tfill: 'magenta'\n",
    "\t    \t}\n",
    "\t},\n",
    "    \n",
    "\t// Right wing 2\n",
    "\t{\n",
    "\t    \twhat: 'triangle',\n",
    "\t    \twhen: tm[1].probability > 0.70,\n",
    "\t    \twhere: {\n",
    "\t        \tx1: pose.rightShoulder.x,\n",
    "\t        \ty1: pose.rightShoulder.y,\n",
    "\t        \tx2: pose.rightShoulder.x - (width / 4),\n",
    "\t        \ty2: ((pose.nose.y + pose.rightShoulder.y) / 2) + 50,\n",
    "\t        \tx3: (pose.nose.x - (width / 2)),\n",
    "\t        \ty3: (pose.rightHip.y + 100)\n",
    "\t    \t},\n",
    "\t    \thow: {\n",
    "\t        \tfill: 'magenta'\n",
    "\t    \t}\n",
    "\t},\n",
    "\n",
    "]\n",
    "\n"
   ]
  },
  {
   "cell_type": "markdown",
   "id": "740f015a-fc17-4d92-9afb-9260ef1d124c",
   "metadata": {},
   "source": [
    "Move around and try different poses to trigger things to happen — observe and think about what is happening on the screen.\n",
    "\n",
    "- What do you think is the code doing?\n",
    "- What do you observe happens?\n",
    "- What are the different shapes that get drawn? \n",
    "- When do the shapes get drawn?\n",
    "\n",
    "Now turn on the classifier option of danceON (highlighted in green below). \n",
    "\n"
   ]
  },
  {
   "cell_type": "markdown",
   "id": "32482eb7-d5e3-4777-926e-d6dc90703e70",
   "metadata": {
    "tags": []
   },
   "source": [
    "![Turn on Classifier Here](./asset/machineLearning/classifier.png) "
   ]
  },
  {
   "cell_type": "markdown",
   "id": "be884105-2d7f-42ef-8649-916f46e0e3b5",
   "metadata": {},
   "source": [
    "The classifier will show you the names of the poses that the model was trained on (in the upper right of the video), as well as the probability values of each pose, relative to the pose you are currently doing.\n",
    "\n",
    "1. When are the probability values low? High? In the middle?\n",
    "2. In what cases or situations is the model failing?\n"
   ]
  },
  {
   "cell_type": "markdown",
   "id": "8ce08e6c-62a8-4ad9-b782-f4f6eb7eceb3",
   "metadata": {},
   "source": [
    "## Rapid-prototyping: conditionals vs. machine learning model\n",
    "\n",
    "Let’s do some rapid-prototyping. Open another instance of [danceON](https://dancinganddabbing.github.io/danceONml/) in another browser window/tab and copy the same code that you’re currently using.\n",
    "\n",
    "Replace the **when** section of the code — use what you learned about conditionals (from previous sessions) to write the **when** code conditions that would trigger the animations in the same way as the machine learning model. What are some ways that you might write a **when**-condition to identify a Wings Up/Down pose?\n"
   ]
  },
  {
   "cell_type": "markdown",
   "id": "caaa56e7-1486-4f55-ac42-c37d272fed90",
   "metadata": {},
   "source": [
    "## Discussion\n",
    "\n",
    "1. Based on our previous discussions and your experiences and observations from the activities above, what do you think are the differences between using conditionals and using a machine learning model?\n",
    "2. Can you think of specific instances or cases where you think it would be better to use conditionals versus machine learning models?\n"
   ]
  }
 ],
 "metadata": {
  "kernelspec": {
   "display_name": "Python 3 (ipykernel)",
   "language": "python",
   "name": "python3"
  },
  "language_info": {
   "codemirror_mode": {
    "name": "ipython",
    "version": 3
   },
   "file_extension": ".py",
   "mimetype": "text/x-python",
   "name": "python",
   "nbconvert_exporter": "python",
   "pygments_lexer": "ipython3",
   "version": "3.10.6"
  }
 },
 "nbformat": 4,
 "nbformat_minor": 5
}
