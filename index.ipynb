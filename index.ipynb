{
 "cells": [
  {
   "cell_type": "raw",
   "id": "19e335f0-1925-4828-96bd-91a23fd19d97",
   "metadata": {},
   "source": [
    "---\n",
    "title: \"Introduction to danceON\"\n",
    "toc: true\n",
    "toc-title: List of Contents\n",
    "execute:\n",
    "  enabled: true\n",
    "format: \n",
    "  html:\n",
    "    code-fold: true\n",
    "jupyter: python3\n",
    "---"
   ]
  },
  {
   "cell_type": "markdown",
   "id": "8776c2d1-722b-4e14-8b78-4b3f50f45bd4",
   "metadata": {
    "tags": []
   },
   "source": [
    "# About danceON {.unnumbered}\n",
    "\n",
    "danceON is a domain-specific programming language for building animations that react to movements built by [Willie Payne](https://williepayne.com/). This book is a creative coding curriculum of danceON. It contains a series of references, workshops, flashcards, and related study tools to learn about danceON and creative coding concepts.  \n"
   ]
  },
  {
   "cell_type": "raw",
   "id": "03ee2acb-bb91-4eda-bcb0-9f01fff35905",
   "metadata": {},
   "source": [
    "::: {.callout-note appearance=\"simple\"}\n",
    "This book was originally created using [Jupyter Book](https://jupyterbook.org/). This site is a port of the original book source to the [Quarto](https://quarto.org) publishing system in order to provide an example of it's use.\n",
    ":::"
   ]
  },
  {
   "cell_type": "markdown",
   "id": "de64e27b-6a92-4fb6-8aab-79dfabdbd399",
   "metadata": {},
   "source": [
    "## Getting Started\n",
    "\n",
    "The online editor can be found [here](https://danceon.herokuapp.com/), or you can have a try here:"
   ]
  },
  {
   "cell_type": "code",
   "execution_count": 1,
   "id": "49956dec-e09e-46dc-84d9-3cb1cdbabdc3",
   "metadata": {},
   "outputs": [
    {
     "data": {
      "text/html": [
       "<iframe width=\"100%\" height=\"900\" allow=\"camera\" src=\"https://danceon.herokuapp.com/\" allowfullscreen></iframe>\n"
      ],
      "text/plain": [
       "<IPython.core.display.HTML object>"
      ]
     },
     "metadata": {},
     "output_type": "display_data"
    }
   ],
   "source": [
    "#| column: screen-inset-right\n",
    "#| echo: false\n",
    "#| output: true\n",
    "%%html\n",
    "<iframe width=\"100%\" height=\"900\" allow=\"camera\" src=\"https://danceon.herokuapp.com/\" allowfullscreen></iframe>"
   ]
  }
 ],
 "metadata": {
  "kernelspec": {
   "display_name": "Python 3 (ipykernel)",
   "language": "python",
   "name": "python3"
  },
  "language_info": {
   "codemirror_mode": {
    "name": "ipython",
    "version": 3
   },
   "file_extension": ".py",
   "mimetype": "text/x-python",
   "name": "python",
   "nbconvert_exporter": "python",
   "pygments_lexer": "ipython3",
   "version": "3.10.6"
  }
 },
 "nbformat": 4,
 "nbformat_minor": 5
}
