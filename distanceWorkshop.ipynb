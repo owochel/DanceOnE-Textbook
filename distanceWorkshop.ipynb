{
 "cells": [
  {
   "cell_type": "raw",
   "id": "6aebd4c2-8c83-4da2-83ff-ad144782aefe",
   "metadata": {},
   "source": [
    "---\n",
    "title: \"Distance and Mapping\"\n",
    "toc: true\n",
    "toc-title: List of Contents\n",
    "execute:\n",
    "  enabled: true\n",
    "format: \n",
    "  html:\n",
    "    code-fold: true\n",
    "jupyter: python3\n",
    "---"
   ]
  },
  {
   "cell_type": "markdown",
   "id": "edc75689-f7ad-4b3c-b1cc-3516cce250c2",
   "metadata": {},
   "source": [
    "## Embodiment Movement\n",
    "\n",
    "Take a breath and try to respond the cues with a couple of movement.\n",
    "\n",
    "Cue 1: \"Imagine moving as if you're in a small, confined space. Explore the sensation of being close, compact, and contained.\"\n",
    "\n",
    "Cue 2: \"Now, let your movements expand. Take larger moves, reaching and stretching through space. Explore the sensation of covering a greater distance.\"\n",
    "\n",
    "Cue 3: \"Find a balance between the previous qualities. Move with moderate steps, neither too short nor too long. Observe how this moderate distance feels in your body.\"\n",
    "\n",
    "### Discussion\n",
    "\n",
    "- \"What did you notice about your movements?\"\n",
    "- \"What two parts of your bodies are 'distanced'? Your two wrists, your wrist and your ankle, or something else?\"\n",
    "- \"How did your body respond to the different qualities of distance?\"\n",
    "- \"Did any emotions or images come to mind as you explored the different distances?\"\n"
   ]
  },
  {
   "cell_type": "markdown",
   "id": "5500b770-e27d-401e-b4fa-91b0c45363bd",
   "metadata": {},
   "source": [
    "## Distance {#sec-distance}\n",
    "\n",
    "We briefly talked about distance function in the previous session. Today, we will dive deeper into the idea.\n",
    "\n",
    "There can be two types of distances when observing in danceON. One is the distance between things on the canvas. The other is the distance from camera. These two types are distinguished differently in danceON.\n",
    "\n",
    "## Horizontal and Vertical Distance\n",
    "\n",
    "The distance on the canvas can be calculated via the distance formula. \n",
    "\n",
    "$$ d = \\sqrt {\\left( {x_1 - x_2 } \\right)^2 + \\left( {y_1 - y_2 } \\right)^2 } $$"
   ]
  },
  {
   "cell_type": "markdown",
   "id": "971d612d-b723-4256-ae8e-91dff9db50f2",
   "metadata": {},
   "source": [
    "For an example, the below code should draw a circle based on the distance between your two wrists."
   ]
  },
  {
   "cell_type": "code",
   "execution_count": 1,
   "id": "4f72decf-c1e3-4272-890e-7382631092c0",
   "metadata": {
    "tags": []
   },
   "outputs": [],
   "source": [
    "#| eval: false\n",
    "#| code-fold: false\n",
    "\n",
    "(pose) => [{\n",
    "            what: 'circle',\n",
    "            where: {\n",
    "                    x: pose.nose.x,\n",
    "                    y: pose.nose.y,\n",
    "            },\n",
    "            how: {\n",
    "                d: Math.sqrt( \n",
    "                    (pose.rightWrist.x-pose.leftWrist.x)*(pose.rightWrist.x-pose.leftWrist.x) + \n",
    "                    (pose.rightWrist.y-pose.leftWrist.y)*(pose.rightWrist.y-pose.leftWrist.y)),\n",
    "                fill: [color(255,0,0),color(0)]\n",
    "                }\n",
    "            }]"
   ]
  },
  {
   "cell_type": "markdown",
   "id": "17e65f74-acbf-4db9-a0b8-186c92de709a",
   "metadata": {},
   "source": [
    "Another example would be using this distance in the conditional. This example will draw a clown nose on you when you open your arms."
   ]
  },
  {
   "cell_type": "code",
   "execution_count": 2,
   "id": "5134dceb-eea8-4c13-b5c4-51dc97053259",
   "metadata": {
    "tags": []
   },
   "outputs": [],
   "source": [
    "#| eval: false\n",
    "#| code-fold: false\n",
    "\n",
    "(pose) => {\n",
    "    let distaneOfWrsits = Math.sqrt( \n",
    "                    (pose.rightWrist.x-pose.leftWrist.x)*(pose.rightWrist.x-pose.leftWrist.x) + \n",
    "                    (pose.rightWrist.y-pose.leftWrist.y)*(pose.rightWrist.y-pose.leftWrist.y));\n",
    "     return [{\n",
    "            what: 'circle',\n",
    "            when:  distaneOfWrsits>500 ,\n",
    "            where: {\n",
    "                    x: pose.nose.x,\n",
    "                    y: pose.nose.y,\n",
    "            },\n",
    "            how: {\n",
    "                d: 30,\n",
    "                fill: color(255,0,0)\n",
    "                }\n",
    "           \n",
    "            }]}"
   ]
  },
  {
   "cell_type": "markdown",
   "id": "ab139a0b-e7ad-4332-ac07-44f6fdd8d1ca",
   "metadata": {},
   "source": [
    "## Mapping\n",
    "\n",
    "Sometime we want to use distance indirectly. Mapping is a great way to get proportional numbers. The below code should be similar things as the previous example codes, except the circle on the nose is sized based on the distance of your wrists."
   ]
  },
  {
   "cell_type": "code",
   "execution_count": 3,
   "id": "63266d8b-20d6-42c2-9b97-a265b35740a5",
   "metadata": {
    "tags": []
   },
   "outputs": [],
   "source": [
    "#| eval: false\n",
    "#| code-fold: false\n",
    "\n",
    "(pose) => {\n",
    "    let distaneOfWrsits = Math.sqrt( \n",
    "                    (pose.rightWrist.x-pose.leftWrist.x)*(pose.rightWrist.x-pose.leftWrist.x) + \n",
    "                    (pose.rightWrist.y-pose.leftWrist.y)*(pose.rightWrist.y-pose.leftWrist.y));\n",
    "     return [{\n",
    "            what: 'circle',\n",
    "            where: {\n",
    "                    x: pose.nose.x,\n",
    "                    y: pose.nose.y,\n",
    "            },\n",
    "            how: {\n",
    "                d: map(distaneOfWrsits, 0,200,1,20),\n",
    "                fill: color(255,0,0)\n",
    "                }\n",
    "           \n",
    "            }]}"
   ]
  },
  {
   "cell_type": "markdown",
   "id": "ff5ef1e6-93b7-4937-b631-837b1cd4dd0e",
   "metadata": {},
   "source": [
    "## Exercise\n",
    "\n",
    "Apply the idea of a distance calculation and create a movement. Teach that movement to your peers, design a movement that is playing with the idea of distance."
   ]
  }
 ],
 "metadata": {
  "kernelspec": {
   "display_name": "Python 3 (ipykernel)",
   "language": "python",
   "name": "python3"
  },
  "language_info": {
   "codemirror_mode": {
    "name": "ipython",
    "version": 3
   },
   "file_extension": ".py",
   "mimetype": "text/x-python",
   "name": "python",
   "nbconvert_exporter": "python",
   "pygments_lexer": "ipython3",
   "version": "3.10.6"
  }
 },
 "nbformat": 4,
 "nbformat_minor": 5
}
