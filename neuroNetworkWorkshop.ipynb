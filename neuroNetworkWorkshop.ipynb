{
 "cells": [
  {
   "cell_type": "raw",
   "id": "f1b9685b-6384-4e3c-a954-1fcc60bdde5f",
   "metadata": {},
   "source": [
    "---\n",
    "title: \"Exploring Neural Networks\"\n",
    "toc: true\n",
    "toc-title: List of Contents\n",
    "execute:\n",
    "  enabled: true\n",
    "format: \n",
    "  html:\n",
    "    code-fold: true\n",
    "jupyter: python3\n",
    "---"
   ]
  },
  {
   "cell_type": "markdown",
   "id": "5a4da911-9fbb-421d-85a0-9dcdf499209f",
   "metadata": {},
   "source": [
    "## Recap: Machine Learning\n",
    "\n",
    "1. Machine learning is a field of AI that uses patterns in data to build models and make predictions.\n",
    "2. You experimented and played around with a machine learning model (Wings Up/Down) through danceON.\n",
    "3. You trained your own machine learning model on Teachable Machine. "
   ]
  },
  {
   "cell_type": "markdown",
   "id": "8eb5b983-4912-4e34-ac90-271f791e3d7c",
   "metadata": {},
   "source": [
    "## Thinking about machine learning and ethics\n",
    "\n",
    "Have you heard about neural networks? What does it sound like it might be?\n",
    "\n",
    "What are things that you know about how AI is used in the real world?\n",
    "\n",
    "What opportunities do you see with the use of AI? Conversely, what potential harms do you see with the use of AI?"
   ]
  },
  {
   "cell_type": "markdown",
   "id": "46fe23ac-c600-41d6-a68d-22088e038c6e",
   "metadata": {},
   "source": [
    "::: {.callout-tip collapse=\"true\"}\n",
    "\n",
    "## Expand To Learn About Neural networks\n",
    "**Neural networks** are machine learning algorithms that process data in a way inspired by the human brain. Neural networks use interconnected “neurons” in a layered structure that resembles the human brain; each layer identifies increasingly complex features.\n",
    "\n",
    "AI and machine learning are used across many domains, including, among others — entertainment, healthcare, process automation, arts, etc.\n",
    "\n",
    "\n",
    ":::"
   ]
  },
  {
   "cell_type": "markdown",
   "id": "b820427e-0320-4f8a-9d48-1a536d2eff51",
   "metadata": {},
   "source": [
    "## Simulating a neural network\n",
    "\n",
    "Let’s simulate a neural network -- a popular machine learning algorithm -- to get a sense of its inner workings!\n",
    "\n",
    "**Setup**: Arrange yourselves according to the neural network table below -- each of you represents a “neuron” within the layers of the neural network.\n",
    "\n",
    "As a neuron, you have a “feature list” and your task is to use your list to identify features from a given input. For example, given an image of a pose (the input), you only identify specific features about the pose from your list, like if you can see the left leg present or if the left leg is in a specific location in the image.\n"
   ]
  },
  {
   "cell_type": "markdown",
   "id": "088ec7f8-892c-46a3-ba6f-4a2c2af7d9aa",
   "metadata": {},
   "source": [
    "| **Input Layer**                                                        | Layer 1 shows a picture of a pose to Layer 2                                                                                                                                                                                                       |                                                                                                                                                                                                                                                               |   |\n",
    "|------------------------------------------------------------------------|----------------------------------------------------------------------------------------------------------------------------------------------------------------------------------------------------------------------------------------------------|---------------------------------------------------------------------------------------------------------------------------------------------------------------------------------------------------------------------------------------------------------------|---|\n",
    "|                                                                        |                                                                                                                                                                                                                                                    |                                                                                                                                                                                                                                                               |   |\n",
    "| **Layer 2: Hidden Layer**<br><br>Look for 2 features                   | Neuron1<br>Add a green sticky if:<br>- (Body Part) The picture clearly shows the right hand <br>- (Location) The picture clearly shows the right hand above the nose<br>Otherwise, add a red sticky                                                | Neuron2<br>Add a green sticky if:<br>- (Body Part) The picture clearly shows the left hand <br>- (Location) The picture shows the left hand above the nose<br>Otherwise, add a red sticky                                                                     |   |\n",
    "|                                                                        |                                                                                                                                                                                                                                                    |                                                                                                                                                                                                                                                               |   |\n",
    "| **Layer 3: Hidden Layer**<br><br>Look for 3 features                   | Neuron3<br>Add a green sticky if:<br>- (Body Part) Picture clearly shows the right hand <br>- (Location) Picture clearly shows the right hand above the nose <br>- (Body Part) Picture clearly shows the left hand <br>Otherwise, add a red sticky | Neuron4<br>Add a green sticky if:<br>- (Body Part) Picture clearly shows the left hand <br>- (Location) Picture clearly shows the left hand above the nose<br>- (Location) Picture clearly shows the right hand above the nose<br>Otherwise, add a red sticky |   |\n",
    "|                                                                        |                                                                                                                                                                                                                                                    |                                                                                                                                                                                                                                                               |   |\n",
    "| **Output Layer: Wings Up pose or not?**<br><br>Criteria: No red sticky | Results for each picture for each combination of neurons:<br>- Neuron1 + Neuron3<br>- Neuron1 + Neuron4<br>- Neuron2 + Neuron3<br>- Neuron2 + Neuron4                                                                                                |                                                                                                                                                                                                                                                               |   |\n",
    "|<img width=200/>|<img width=330/>|"
   ]
  },
  {
   "cell_type": "markdown",
   "id": "e027f81e-e807-425c-bc1a-b374280b65f9",
   "metadata": {},
   "source": [
    "**Mechanism:** To start the simulation, the input layer will send an image of a pose to each of the neurons of the next layer. The neurons will then use their feature list to identify their assigned features.\n",
    "\n",
    "- For each feature present in the image, put a green sticky note on the image. Otherwise, put a red sticky note.\n",
    "- For example, given the assigned features of the (1) left hand and (2) right leg — if the left arm is not visible in the image but the right leg is, then you put 1 red sticky note for the left arm and 1 green sticky note for the right leg.\n",
    "\n",
    "After the neurons have finished identifying their features, they pass the image to a neuron in the next layer, who will then take their turn identifying features and adding sticky notes to the image for each feature. This process repeats until the image reaches the output layer.\n",
    "\n",
    "The output layer determines the final classification of the pose image based on the number of features present in the image (green sticky notes). The diagram below shows a quick overview of this process.\n",
    "\n",
    "![Overview of Neuro Network Mechanism](./asset/machineLearning/classification.png)"
   ]
  },
  {
   "cell_type": "markdown",
   "id": "6ffec10f-83d8-4c35-b03c-13996ce8e2f5",
   "metadata": {},
   "source": [
    "## Discussion and share-out\n",
    "\n",
    "Think about how well the neural network performed on classifying the body pose images —\n",
    "\n",
    "1. How well did the neural network simulation communicate how the algorithm works to classify body poses?\n",
    "2. Were there any incorrect classifications? What were these and why were they incorrect?\n",
    "3. In what ways do you think you can tune/refine the neural network?\n",
    "4. How well did your assigned features help classify the images?\n",
    "5. What assumptions about bodies, movements, or people have to be considered when thinking about features to identify?\n",
    "\n",
    "Think about your observations when using danceON in previous sessions —\n",
    "\n",
    "1. What does the activity on neural networks tell you about how danceON behaves when you use it to detect your poses and draw shapes/animations over your poses?\n",
    "2. What would have caused animations not behaving as you’d expect or showing glitches and inconsistencies?\n",
    "\n",
    "Think about the broader implications of the design of machine learning algorithms —\n",
    "\n",
    "1. Given what you know about machine learning algorithms, what do you think are tasks or activities that AI should ideally be used for and conversely, not used for?\n",
    "2. What biases may be present within the tasks/activities? To what extent could these biases be harmful or otherwise?\n",
    "\n",
    "Think about how you might teach AI and machine learning — how do you envision conversations with learners about the opportunities and ethics around AI given what you’ve seen around the mechanisms of how a machine learning algorithm (such as a neural network algorithm) works? \n",
    "\n",
    "1. How could machine learning algorithms (like neural networks) impact the design of dance software like danceON?\n",
    "2. How could machine learning algorithms (like neural networks) impact users of dance software?\n",
    "3. To what extent do you think should students/learners care about these topics?\n",
    "4. How would you connect discussions about AI algorithms with dance practices? For example, what kinds of movements, dances, or poses do you think would work well with danceON, or otherwise?\n",
    "5. How do you envision conversations about models in the real-world in light of today’s activities? \n"
   ]
  }
 ],
 "metadata": {
  "kernelspec": {
   "display_name": "Python 3 (ipykernel)",
   "language": "python",
   "name": "python3"
  },
  "language_info": {
   "codemirror_mode": {
    "name": "ipython",
    "version": 3
   },
   "file_extension": ".py",
   "mimetype": "text/x-python",
   "name": "python",
   "nbconvert_exporter": "python",
   "pygments_lexer": "ipython3",
   "version": "3.10.6"
  }
 },
 "nbformat": 4,
 "nbformat_minor": 5
}
