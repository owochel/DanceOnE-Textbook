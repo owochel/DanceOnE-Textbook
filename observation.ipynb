{
 "cells": [
  {
   "cell_type": "raw",
   "id": "81eeac8e-8b11-4ec3-8c74-12ff74e1da6a",
   "metadata": {},
   "source": [
    "---\n",
    "title: \"Observation and Ideation\"\n",
    "toc: true\n",
    "toc-title: List of Contents\n",
    "execute:\n",
    "  enabled: true\n",
    "format: \n",
    "  html:\n",
    "    code-fold: true\n",
    "jupyter: python3\n",
    "---"
   ]
  },
  {
   "cell_type": "markdown",
   "id": "11917629-a893-4666-bbe9-abe32d52e673",
   "metadata": {
    "tags": []
   },
   "source": [
    "## Observation {#sec-observation}\n",
    "\n",
    "This section suggests a potential workshop that an instructor could lead teaching danceON. The students should have some basic knowledge about danceON and ready to start creating their own peice.\n",
    "\n",
    "As it could be intimidating to start with a blank canvas, we will have a look at some art pieces in different medium from other artist that can be insipring for creations in danceON. Using danceON as a tool to recreate the observed piece will be the main practice, and hopefully the method introduced here will be a good review and can help you develop their own master piece."
   ]
  },
  {
   "cell_type": "markdown",
   "id": "280d0419-25e4-451e-98f7-fddc94dce872",
   "metadata": {},
   "source": [
    "::: {.callout-note appearance=\"simple\"}\n",
    "\n",
    "There should not be one correct way to observe and describe an image. Even using the same method, two person can still recreate a image through compeletely different process of observation. The process documented here should only be a guidance that helps you practice observation in art. The goal is to have your own way observing art pieces.\n",
    "\n",
    ":::"
   ]
  },
  {
   "cell_type": "markdown",
   "id": "fe11cb1c-ae83-4c16-a592-b6d7ed37a86f",
   "metadata": {},
   "source": [
    "### Visual Analysis Practice (10 min)"
   ]
  },
  {
   "cell_type": "markdown",
   "id": "f1fd785d-52db-40bb-b3ea-fd097f4cbc4f",
   "metadata": {},
   "source": [
    "One of the ways to practice observing a image is to describe the image as if you are to recreate it. When observing static 2D art pieces such as images or pictures, you can use as simple as a pencil and a scrap paper as your imagined medium of recreation, but you can also use danceON.\n",
    "\n",
    "Take a look at the image below. It is [John Baldessari's Umbrella (Orange): With Figure and Ball (Blue, Green) at Guggenheim Museume Collection Online](https://www.guggenheim.org/artwork/13308).\n",
    "\n",
    "Before you let your eyes wander in the field, here is a list of questions that you can keep in your mind when looking at this image (this could be made into a worksheet):"
   ]
  },
  {
   "cell_type": "markdown",
   "id": "caee411e-5c13-47be-ba49-1e8f61437f9f",
   "metadata": {},
   "source": [
    "- General composition of the image\n",
    "    - Where is everything?\n",
    "    - How are things positioned?\n",
    "- Depth of the image\n",
    "    - How many layers of things are there?\n",
    "    - What are their order and relations?\n",
    "- Details of each thing\n",
    "    - What colors/patterns they have\n",
    "    - What specific properties each thing has\n",
    "- Detalis of the character(s)\n",
    "    - What are the gestures/motions?\n",
    "    - How are the motions suggested through visual languages?"
   ]
  },
  {
   "cell_type": "markdown",
   "id": "1bf24ec9-ee74-4784-8db5-7c4b0161a3e6",
   "metadata": {},
   "source": [
    "![Umbrella (Orange): With Figure and Ball (Blue, Green), John Baldessari, 2004](./asset/observation/baldessariUmbrella.jpeg){#fig-umbrella  width=\"435\" height=\"493.5\"}"
   ]
  },
  {
   "cell_type": "markdown",
   "id": "76f6e3b7-7572-45ad-94fd-edf4119a77d9",
   "metadata": {},
   "source": [
    "<!-- - the general composition of the image\n",
    "    - where everything is\n",
    "    - how each thing is positioned\n",
    "- the depth of the image\n",
    "    - how many layers of things there are\n",
    "    - what their order and relations are\n",
    "- the details of each thing\n",
    "    - what colors/patterns they have\n",
    "    - what specific properties each thing has\n",
    "\n",
    "Now we can try to put these observations into words.\n",
    "\n",
    "There is a feminine-looking person in a bathing suit standing on a ball next to an opened umbrella. The person faces the camera ,but the person's face is covered with a circular shape. The person is on the right and the umbrella is on the left of the image. The ball and the figure is slightly in front of the umbrella, and they seem to be on a beach based on the texture of the contact surface. The sea level is in the far background and runs through the image slightly below the horizontal centre line. More to the background, there are a few pieces of cloud in the sky. Everything is grayscaled other than the umbrella, the ball, and the circular shape covering the person's face. The umberlla is solid light orange and has multiple shaded ciruclar dots as its pattern. The ball is solid green and simplified. It doesn't look like a photographed ball but more like the geometric circular shape. The circular shape covering the person's face is blue and resambles the ball in its simplifed texture and geometric shape. The person has shoulder-length curled black hair and is wearing a patterend swimsuit. Standing on the ball with their right foot, the person's left foot  knees are slightly bent. The person has their hand swinging outwards and wide open. -->"
   ]
  },
  {
   "cell_type": "markdown",
   "id": "2b84a5d8-7d22-4400-b057-2a7d41372e2b",
   "metadata": {},
   "source": [
    "Here is a sampled visual analysis I made when observing this image with the idea that I will recreate it in danceON. "
   ]
  },
  {
   "cell_type": "raw",
   "id": "b2bf9051-2dde-403f-b4e6-551bc6f215de",
   "metadata": {},
   "source": [
    "+-------------------------------------+----------------------------------------------------------+\n",
    "| Things that I pay attention         |                                                          |\n",
    "+=====================================+==========================================================+\n",
    "|**General composition**              |There is a feminine-looking person in a\n",
    "|**of the image**                     |bathing suit standing on a ball       \n",
    "|                                     |next to an opened umbrella in a vertically composed image.            \n",
    "+-------------------------------------+----------------------------------------------------------+\n",
    "|Where is everything?                 |The person is on the right and the umbrella \n",
    "|                                     |is on the left of the image. \n",
    "+-------------------------------------+----------------------------------------------------------+\n",
    "|How are things positioned            |The person is standing facing the camera, \n",
    "|                                     |but the person's face is covered with a circular shape.\n",
    "+-------------------------------------+----------------------------------------------------------+\n",
    "|Details of everything                |\n",
    "+-------------------------------------+----------------------------------------------------------+\n",
    "|How many layers are there?           |The ball and the figure is slightly in front of the \n",
    "|What are their relationships?        |umbrella, and they seem to be on a beach based on \n",
    "|                                     |the texture of the contact surface. The sea level is in \n",
    "|                                     |the far background and runs through the image slightly \n",
    "|                                     |below the horizontal centre line. \n",
    "|                                     |More to the background, there are a few pieces of \n",
    "|                                     |cloud in the sky.\n",
    "+-------------------------------------+----------------------------------------------------------+\n",
    "|**Depth of the image**               |\n",
    "+-------------------------------------+----------------------------------------------------------+\n",
    "|What colors/patters are there?       |Everything is grayscaled other than the umbrella, \n",
    "|                                     |the ball, and the circular shape covering the person's \n",
    "|                                     |face. The umberlla is solid light orange and has multiple \n",
    "|                                     |shaded ciruclar dots as its pattern. \n",
    "|                                     |The ball is solid green and simplified. \n",
    "+-------------------------------------+----------------------------------------------------------+\n",
    "|What are other specific properties?  |It doesn't look like a photographed ball but more like \n",
    "|                                     |the geometric circular shape. The circular shape covering \n",
    "|                                     |the person's face is blue and resambles the ball in its \n",
    "|                                     |simplifed texture and geometric shape. The person has \n",
    "|                                     |shoulder-length curled black hair and is wearing a \n",
    "|                                     |patterend swimsuit. \n",
    "+-------------------------------------+----------------------------------------------------------+\n",
    "|**Details of characters' motion**    |\n",
    "+-------------------------------------+----------------------------------------------------------+\n",
    "|What are the gestures/motions        |Standing on the ball with their right foot, \n",
    "|suggested?                           |the person's left foot  knees are slightly bent. \n",
    "|                                     |The person has their hand swinging outwards and wide open.   \n",
    "|                                     |Looks like they are balancing themselves.\n",
    "+-------------------------------------+----------------------------------------------------------+\n",
    "|How are the gestures/motions         |The out pointing hands waving in the air and bent knees\n",
    "|suggested through visual languages?  |portrays a balancing pose. The composition of person \n",
    "|                                     |standing on the ball with one leg also makes up the story  \n",
    "|                                     |of the person balancing on the ball.\n",
    "+-------------------------------------+----------------------------------------------------------+\n"
   ]
  },
  {
   "cell_type": "markdown",
   "id": "5d0aecf3-a064-463e-90ac-48bde4841070",
   "metadata": {},
   "source": []
  },
  {
   "cell_type": "markdown",
   "id": "fb6f7165-c52d-4523-8e48-a0caa439cf33",
   "metadata": {},
   "source": [
    "### Recreation (30 min)\n",
    "\n",
    "Phew, there are a lot of texts and information, but we did it! This process should help us recreate it in dance on logically.\n",
    "\n",
    "We will always use the **general composition** as a reference of our creation. The rest will be our guide creating the scene. \n",
    "\n",
    "To start in danceON, first thing first is to **match the vertical composition of Baldessari's piece**. Because the default webcam format in danceON is horizontal, there are a few things we can do to get around with it. It is a good brainstorming/discussion questions to ask the students if they have any proposals on how they would match the vertical compositions with danceON."
   ]
  },
  {
   "cell_type": "markdown",
   "id": "222978b9-d1fd-4620-b86d-6ac4eb397982",
   "metadata": {},
   "source": [
    "The most straightforward way is to record a vertical video and upload it via the upload option in **controls** on the top right corner. Click the uplaod button in the middle line of the Video Sources Panel after you have a video of someone doing a similar motion as the character."
   ]
  },
  {
   "cell_type": "raw",
   "id": "28f0ef8a-1180-48b1-b0b9-fce2f1466bf9",
   "metadata": {},
   "source": [
    "![Controls icon](./asset/icon/controls.png)\n",
    "![Video Sources Panel](./asset/observation/videoSources.png)"
   ]
  },
  {
   "cell_type": "markdown",
   "id": "384d4924-07ac-4b64-8aa0-1aff4441b227",
   "metadata": {},
   "source": [
    "### Reflection (10 min)\n"
   ]
  },
  {
   "cell_type": "code",
   "execution_count": 1,
   "id": "ba29dc50-f1ed-4992-8b0f-08e0a8a1a166",
   "metadata": {},
   "outputs": [],
   "source": [
    "# How dancer describe the movement? -- On line dance education?\n",
    "#         -- New York City DOE Professional Models\n",
    "\n",
    "# danceON -- Case-based Reasoning: Code helping with analysis\n",
    "#         -- Positions of dancers\n",
    "        \n",
    "# Stand from dance \n",
    "\n",
    "\n",
    "# Scafolding the creative process\n",
    "# -- translate the observation to creativity\n",
    "# -- key parts of observation to translation\n",
    "#     -- state in the begaining, looking for the key points\n",
    "#     -- other key points, guide the discussion, **more like an instructor guidebook**\n",
    "#     -- put timing next to them\n",
    "#     -- challenge: artistic challenge, brighen the color/make it stylistic\n",
    "#     -- guides to structure the lesson\n",
    "#     -- randomness\n",
    "#     -- subgoals:\n",
    "#         -- subsectioning titles: in conversation with technical concept\n",
    "#     -- focus on the instructor's readability\n",
    "#     -- pick a sound, ask a student to record, upload it to dance on, make modification\n",
    "    \n",
    "#  -- user study\n",
    "#      -- participotory design\n",
    "#      -- design feedback, try to get them think across bigger changes\n",
    "#      -- how to structure/organize the things\n",
    "#      -- miro board? thinking about their practive ahead\n",
    "#      -- making design choices based on our observation"
   ]
  },
  {
   "cell_type": "code",
   "execution_count": 2,
   "id": "83d96d4e-88fa-4f19-a48c-8a1e9c1d3b38",
   "metadata": {
    "tags": []
   },
   "outputs": [],
   "source": [
    "import heapq\n",
    "def topKFrequent(nums, k):\n",
    "    s=set(nums)\n",
    "    count=[]\n",
    "    for i in s:\n",
    "        count.append(nums.count(i))\n",
    "    dictionary = dict(zip(s, count)) \n",
    "\n",
    "        \n",
    "    \n",
    "arr=[-1,-1,-1,2,2,3]\n",
    "topKFrequent(arr,2)"
   ]
  }
 ],
 "metadata": {
  "kernelspec": {
   "display_name": "Python 3 (ipykernel)",
   "language": "python",
   "name": "python3"
  },
  "language_info": {
   "codemirror_mode": {
    "name": "ipython",
    "version": 3
   },
   "file_extension": ".py",
   "mimetype": "text/x-python",
   "name": "python",
   "nbconvert_exporter": "python",
   "pygments_lexer": "ipython3",
   "version": "3.10.6"
  }
 },
 "nbformat": 4,
 "nbformat_minor": 5
}
