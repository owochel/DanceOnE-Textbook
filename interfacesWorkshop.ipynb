{
 "cells": [
  {
   "cell_type": "raw",
   "id": "19e335f0-1925-4828-96bd-91a23fd19d97",
   "metadata": {},
   "source": [
    "---\n",
    "title: \"Interfaces\"\n",
    "toc: true\n",
    "toc-title: List of Contents\n",
    "execute:\n",
    "  enabled: true\n",
    "format: \n",
    "  html:\n",
    "    page-layout: full\n",
    "    code-fold: true\n",
    "crossref:\n",
    "  chapters: true\n",
    "jupyter: python3\n",
    "---"
   ]
  },
  {
   "cell_type": "markdown",
   "id": "8776c2d1-722b-4e14-8b78-4b3f50f45bd4",
   "metadata": {
    "tags": []
   },
   "source": [
    "## Code Editor and Canvas {#sec-editorcanvas}\n",
    "\n",
    "The danceON interfaces are divided into two general parts -- the **code editor** *(on the left)* and the **canvas** *(on the right)*. All the manipulation of the code in the **code editor** will be simultaneously reflected on the **canvas** on the right. See @fig-interface, the pink-red square circled out the **code editor** on the left, and the purple square circled out the **canvas** on the right. Scroll to the bottom to @sec-try to try the interface in this textbook. \n"
   ]
  },
  {
   "cell_type": "markdown",
   "id": "ef288279-a83f-4e15-88cf-671a5bee53c5",
   "metadata": {},
   "source": [
    ":::{.column-page-right}\n",
    "![danceON Interface](./asset/interface/interface.png){#fig-interface}\n",
    ":::"
   ]
  },
  {
   "cell_type": "markdown",
   "id": "71baffd2-0b32-4d40-8869-efdbaab065b4",
   "metadata": {},
   "source": [
    "## Canvas Tools \n",
    "If you look into the canvas, you will find a few grey icons at the bottom of the canvas box. They are tools that help you create and choreograph your piece faster. See the list below to see their function. The icons in the margin show the icon before it was clicked on the top and after on the bottom. Scroll to the bottom to @sec-try to try the interface in this textbook. "
   ]
  },
  {
   "cell_type": "raw",
   "id": "83af4536-c495-48cd-8952-b97217d86933",
   "metadata": {},
   "source": [
    "::: {.column-margin}\n",
    "![Pause icon](./asset/icon/pause.png)\n",
    "![Audio icon](./asset/icon/sound.png) \n",
    "![Record icon](./asset/icon/record.png) \n",
    "\n",
    "![Pause icon when playing](./asset/icon/playing.png) \n",
    "![Audio icon when muted](./asset/icon/mute.png) ![Record icon when recording](./asset/icon/recording.png) \n",
    ":::"
   ]
  },
  {
   "cell_type": "markdown",
   "id": "4545d502-3ad0-4c8d-9572-ff6ed68e1f2e",
   "metadata": {},
   "source": [
    "* The right-facing triangle is a play button for the video displayed on canvas.\n",
    "* The speaker icon is button to turn on or off the audio in your video. \n",
    "* The small circle is a shutter for recording your canvas for your choreography. "
   ]
  },
  {
   "cell_type": "markdown",
   "id": "4fd9a986-99d6-4c5e-9d63-15c6016c429b",
   "metadata": {},
   "source": [
    "The slider to the most right on the bottom of the canvas is a tool that shows you and let you adjust where you are at in the video. See @fig-slider You may hover or click on the slider to see or go to the exact frame you are at in a video."
   ]
  },
  {
   "cell_type": "markdown",
   "id": "a1110a54-6eab-41c6-8a67-39c493448e20",
   "metadata": {},
   "source": [
    ":::{.column-margin}\n",
    "![Slider](./asset/interface/slider.png){#fig-slider}\n",
    ":::"
   ]
  },
  {
   "cell_type": "markdown",
   "id": "444b5dbb-fb22-4f81-9be6-c8778b7fc692",
   "metadata": {},
   "source": [
    "## Reference List\n",
    "\n",
    "\n",
    "There is a reference button on the top right corner which will click-open the reference list on the right of your screen. The reference list contains most of the basic things you need to create a piece in danceON. You will be able to copy the code in reference directly and paste it into your editor to see their effect. See @fig-referencelist. \n",
    "\n"
   ]
  },
  {
   "cell_type": "raw",
   "id": "44eaeca4-e3d9-477e-a51a-3f062c32f955",
   "metadata": {},
   "source": [
    ":::{.column-margin}\n",
    "![The icon for the reference](./asset/icon/reference.png)\n",
    ":::"
   ]
  },
  {
   "cell_type": "markdown",
   "id": "e2b73c88-cdca-484f-bd13-0ae9310b9add",
   "metadata": {},
   "source": [
    ":::{.column-page-right}\n",
    "![The reference list opens up on the right of the screen.](./asset/interface/referencelist.png){#fig-referencelist}\n",
    ":::"
   ]
  },
  {
   "cell_type": "raw",
   "id": "8d157af6-f47c-4c13-8a0d-e508776aea2e",
   "metadata": {},
   "source": [
    ":::{.callout-tip appearance=\"simple\"}\n",
    "When you hover over the reference code you wish to cover, you will be able to click the copy button on the top right corner to copy the code.\n",
    ":::"
   ]
  },
  {
   "cell_type": "raw",
   "id": "83f63791-b18b-4b93-8423-4ae01bf3515f",
   "metadata": {},
   "source": [
    "::: {.callout-note appearance=\"simple\"}\n",
    "## Pay Attention\n",
    "The punctuations in the code and the sequencing of the code are important. When copying from references, you need to pay attention to what to replace in your code.\n",
    "To learn more about code structure or sequencing of the code, read more about this in chapter 2.\n",
    ":::"
   ]
  },
  {
   "cell_type": "markdown",
   "id": "bf7dcdd5-9f22-4bf2-91b9-bd41a5b4fd0b",
   "metadata": {},
   "source": [
    "## Webcam Tools and Video Upload \n",
    "When you click the control menu on the top right corner, there is a **Video Source** option menu where you can upload your own choreography footage or use the webcam for live interaction. See image to the right for reference.\n",
    "\n",
    "These allow you to work with more controlled footage or live performance settings."
   ]
  },
  {
   "cell_type": "raw",
   "id": "63ce9a50-7fc4-4b68-9b68-8384f37606fb",
   "metadata": {},
   "source": [
    ":::{.column-margin}\n",
    "![The video source menu](./asset/interface/videoUpload.png)\n",
    ":::"
   ]
  },
  {
   "cell_type": "raw",
   "id": "4b1cb9bf-cfb0-4996-bd00-9df9c39d14cd",
   "metadata": {},
   "source": [
    "::: {.callout-warning appearance=\"simple\"}\n",
    "## Webcam Premission\n",
    "You might need to give webcam premission to the browser you are using in order for danceON to access your webcam. If when you turn the webcam option on, and you didn't see any pop-up menu to instruct you allowing browser accessing your webcam and your canvas. But your canvas simply doesn't show your webcam footage. You might need to go the computer's system setting to enable camera access for your browser.\n",
    ":::"
   ]
  },
  {
   "cell_type": "markdown",
   "id": "85c01950-0c18-4ced-8f8f-28e172438ed9",
   "metadata": {},
   "source": [
    "## Overlay {#sec-overlay}"
   ]
  },
  {
   "cell_type": "markdown",
   "id": "3474dbce-a0b1-4809-be5d-45b5c634e1c6",
   "metadata": {},
   "source": [
    "There are many helper functions to help you code in danceON better. When you open the **control** menu on the top right corner, you can see there is a tab called **Overlay**. See @fig-overlay. All of these options are visual tools that gives you some references about the content in the canvas.\n"
   ]
  },
  {
   "cell_type": "raw",
   "id": "21140ead-15f6-4f27-92d2-a1748759cc69",
   "metadata": {},
   "source": [
    ":::{.column-margin}\n",
    "![Overlays menu](./asset/interface/overlay.png){#fig-overlay}\n",
    ":::"
   ]
  },
  {
   "cell_type": "markdown",
   "id": "d9be6d0f-2854-48c7-87d8-71fef41dee36",
   "metadata": {},
   "source": [
    "* The cursor position gives you the numerical value of your mouse position on the canvas. We will go over this more in the coordinate system chapter.\n",
    "* The skeleton draws a small circle on all the anchor point on the skeleton of how the computer model determines the human skeleton. Hover over the specific circle with your mouse, and you will see the name of which anchor point you are referring to. You will use that as the variable name for coding the location bounded to the skeleton for your sketch.\n",
    "* The classifier put some numbers on the top right corner that shows if how well a machine learning model determine certain poses on the frame. We will go over this more in the machine learning chapter."
   ]
  },
  {
   "cell_type": "raw",
   "id": "1796d05a-62b8-48fc-810a-d236b128059b",
   "metadata": {},
   "source": [
    ":::{.callout-tip appearance=\"simple\"}\n",
    "These are important helper function to give you references on the canvas and skeleton when creating your sketch. Use them when you are coding will help you familiarize the coordinate system and skeleton faster. \n",
    ":::"
   ]
  },
  {
   "cell_type": "markdown",
   "id": "58611c04-cefe-4fda-a71c-5043c76a3b40",
   "metadata": {},
   "source": [
    "## Try it here!{#sec-try}"
   ]
  },
  {
   "cell_type": "code",
   "execution_count": 1,
   "id": "01dfa8b6-3c30-4b4c-9f08-053cd463e613",
   "metadata": {
    "tags": []
   },
   "outputs": [
    {
     "data": {
      "text/html": [
       "<iframe width=\"100%\" height=\"900\" allow=\"camera\" src=\"https://danceon.herokuapp.com/\" title=\"danceON Interface\" frameborder=\"0\" allow=\"accelerometer; autoplay; clipboard-write; encrypted-media; gyroscope; picture-in-picture\" allowfullscreen></iframe>\n"
      ],
      "text/plain": [
       "<IPython.core.display.HTML object>"
      ]
     },
     "metadata": {},
     "output_type": "display_data"
    }
   ],
   "source": [
    "#| column: screen-inset-right\n",
    "#| echo: false\n",
    "#| output: true\n",
    "%%html\n",
    "<iframe width=\"100%\" height=\"900\" allow=\"camera\" src=\"https://danceon.herokuapp.com/\" title=\"danceON Interface\" frameborder=\"0\" allow=\"accelerometer; autoplay; clipboard-write; encrypted-media; gyroscope; picture-in-picture\" allowfullscreen></iframe>"
   ]
  },
  {
   "cell_type": "markdown",
   "id": "55471e99-6582-4a13-b0df-4c547ca7ca09",
   "metadata": {},
   "source": [
    "## Code Management {#sec-codeManagement}\n",
    "\n",
    "You may realize if you close your danceON tab and re-opens the tab, you will most likely to see the code you were last working on without needing to save it somewhere. It may seems like a convenience at first to have all the code cached in the browser. However, it is not the safest way to manage your code. And as many other software, it is crucial that you save your work and manage the version of your code."
   ]
  },
  {
   "cell_type": "raw",
   "id": "efafe4cd-d1ce-43ec-8eb9-10f971faa011",
   "metadata": {},
   "source": [
    ":::{.column-margin}\n",
    "![Code menu](./asset/interface/codeUpload.png){#fig-code}\n",
    ":::"
   ]
  },
  {
   "cell_type": "markdown",
   "id": "4767e0f6-27ad-4329-9d57-aa8b195754bf",
   "metadata": {},
   "source": [
    "\n",
    "In the control menu, you will also find the **Code** menu that allows you to manage your code. To save your work, simply use the **download** button which will save your work in a JavaScript file on your local device. Put it somewhere you remembers and recognize. When you want to work on this file, use the **upload** button and locate it on your computer to resume working."
   ]
  },
  {
   "cell_type": "markdown",
   "id": "5df60019-eb27-472d-a026-c309cec50b8c",
   "metadata": {},
   "source": [
    "## Machine Learning Model Upload {#sec-machineLerning}\n",
    "\n",
    "The **Machine Learning Model** menu allows you to upload a [teachable machine](https://teachablemachine.withgoogle.com/) model that you can train yourself. \n",
    "\n",
    "See [Machine Learning Sessions](./machineLearningWorkshop.ipynb#sec-MachineLearning) for more information."
   ]
  },
  {
   "cell_type": "raw",
   "id": "b1b4f408-2c08-4ccb-88e1-0c774bf5a46d",
   "metadata": {},
   "source": [
    ":::{.column-margin}\n",
    "![Machine Learning Model menu](./asset/interface/teachableMachine.png){#fig-ml}\n",
    ":::"
   ]
  }
 ],
 "metadata": {
  "kernelspec": {
   "display_name": "Python 3 (ipykernel)",
   "language": "python",
   "name": "python3"
  },
  "language_info": {
   "codemirror_mode": {
    "name": "ipython",
    "version": 3
   },
   "file_extension": ".py",
   "mimetype": "text/x-python",
   "name": "python",
   "nbconvert_exporter": "python",
   "pygments_lexer": "ipython3",
   "version": "3.10.6"
  }
 },
 "nbformat": 4,
 "nbformat_minor": 5
}
