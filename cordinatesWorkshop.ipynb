{
 "cells": [
  {
   "cell_type": "raw",
   "id": "19e335f0-1925-4828-96bd-91a23fd19d97",
   "metadata": {},
   "source": [
    "---\n",
    "title: \"Coordinates System\"\n",
    "toc: true\n",
    "toc-title: List of Contents\n",
    "execute:\n",
    "  enabled: true\n",
    "format: \n",
    "  html:\n",
    "    page-layout: full\n",
    "    code-fold: true\n",
    "jupyter: python3\n",
    "---"
   ]
  },
  {
   "cell_type": "markdown",
   "id": "8776c2d1-722b-4e14-8b78-4b3f50f45bd4",
   "metadata": {
    "tags": []
   },
   "source": [
    "## Definition\n",
    "\n",
    "In DanceON, all shapes drawn to the screen have a position that is specified as a coordinate. All coordinates are measured as the distance from the origin in units of pixels. The coordinates are represented as **x** and **y** in DanceON. **x** represents where the object is on the horizontal axis, and **y** represents where the object is on the vertical axis. At the origin, being the **upper left** of the window, both the coordinate x and coordinate y are 0. At the **lower right** of the window, x is width, and y is height.\n"
   ]
  },
  {
   "cell_type": "markdown",
   "id": "eb68a0ee-4f5b-4c02-8227-d84817a6863c",
   "metadata": {},
   "source": [
    "As a result, the coordinates system in dance on could be understand as @fig-coordmap."
   ]
  },
  {
   "cell_type": "markdown",
   "id": "768d9523-ce20-4ae5-8adf-992c55a8b6d5",
   "metadata": {},
   "source": [
    "![A coordinates system map that shows 4 different points for (red, top left) {x: 0, y:0}, (purple, bottom left) {x: 0, y:height}, (orange, top right) {x: width, y: 0}, (pink, buttom right){x: width, y: height}](./asset/coordinates.png){#fig-coordmap}"
   ]
  },
  {
   "cell_type": "markdown",
   "id": "fbc4f429-2ba7-4229-ab30-ab19182309a7",
   "metadata": {},
   "source": [
    "These **x** and **y** expressions are universal in the languages for DanceON. It is common to find **x** and **y** used to express things related to the coordinates systems.\n",
    "\n",
    "When you see **x** and **y** at the beginning of a line where they appear by themselves such as **\"x:\"** or **\"y:\"**, it means you are **defining** the location of the object you are currently programming. \n",
    "\n",
    "However, the **x** and **y** are also used to express some pre-defined location variables for poses. For instance, you may see the names for poses are called something like *\"pose.nose.**x**\"* or *\"pose.leftWrist.**y**\"*. When the **x** and **y** appears as suffix after body parts names, they are used to express the specific numbers of coordinates of the body parts at different times. \n"
   ]
  },
  {
   "cell_type": "raw",
   "id": "2f95da11-146d-4dad-a9cb-95da016341b5",
   "metadata": {},
   "source": [
    "::: {.callout-note appearance=\"simple\"}\n",
    "Why would you also use **x** and **y** for *\"pose.nose.**x**\"* and *\"pose.leftWrist.**y**\"* instead of numbers?\n",
    "\n",
    "- Observer the location of the poses' keypoints (nose,leftWrist, leftEye, etc) on your DanceON canvas, you may easily find out that the locations of the key points change throughout the progression of your videos/webcam recordings. Because we are dealing with numbers that are constantly changing when referring to coordinates of the pose keypoints, it is easier to represent the location with **variables**(names for changing numbers). \n",
    "\n",
    "\n",
    "- Having **x** and **y** as the names indicates that they are in the same coordinates system with your object -- **\"x:\"** or **\"y:\"**.\n",
    ":::"
   ]
  },
  {
   "cell_type": "markdown",
   "id": "bfe89e68-3917-486f-bace-d023c12bd581",
   "metadata": {},
   "source": [
    "## Exercise 1"
   ]
  },
  {
   "cell_type": "code",
   "execution_count": 1,
   "id": "14f5b168-b5b7-4fa6-b864-f4f09d8fd402",
   "metadata": {
    "tags": []
   },
   "outputs": [
    {
     "name": "stdout",
     "output_type": "stream",
     "text": [
      "Requirement already satisfied: jupyterquiz in /usr/local/lib/python3.10/site-packages (2.0.6)\r\n"
     ]
    },
    {
     "name": "stdout",
     "output_type": "stream",
     "text": [
      "\r\n",
      "\u001b[1m[\u001b[0m\u001b[34;49mnotice\u001b[0m\u001b[1;39;49m]\u001b[0m\u001b[39;49m A new release of pip is available: \u001b[0m\u001b[31;49m23.0\u001b[0m\u001b[39;49m -> \u001b[0m\u001b[32;49m23.1.2\u001b[0m\r\n",
      "\u001b[1m[\u001b[0m\u001b[34;49mnotice\u001b[0m\u001b[1;39;49m]\u001b[0m\u001b[39;49m To update, run: \u001b[0m\u001b[32;49mpython3.10 -m pip install --upgrade pip\u001b[0m\r\n"
     ]
    },
    {
     "name": "stdout",
     "output_type": "stream",
     "text": [
      "Requirement already satisfied: jupytercards in /usr/local/lib/python3.10/site-packages (1.9.9)\r\n"
     ]
    },
    {
     "name": "stdout",
     "output_type": "stream",
     "text": [
      "\r\n",
      "\u001b[1m[\u001b[0m\u001b[34;49mnotice\u001b[0m\u001b[1;39;49m]\u001b[0m\u001b[39;49m A new release of pip is available: \u001b[0m\u001b[31;49m23.0\u001b[0m\u001b[39;49m -> \u001b[0m\u001b[32;49m23.1.2\u001b[0m\r\n",
      "\u001b[1m[\u001b[0m\u001b[34;49mnotice\u001b[0m\u001b[1;39;49m]\u001b[0m\u001b[39;49m To update, run: \u001b[0m\u001b[32;49mpython3.10 -m pip install --upgrade pip\u001b[0m\r\n"
     ]
    }
   ],
   "source": [
    "#| label: importing packages\n",
    "#| include: false\n",
    "\n",
    "import sys\n",
    "!pip3 install jupyterquiz\n",
    "!pip3 install jupytercards\n",
    "import jupyterquiz as qz\n",
    "import jupytercards as cd\n"
   ]
  },
  {
   "cell_type": "markdown",
   "id": "f77190b4-e1d8-4d17-ae13-812ea1b6d4d9",
   "metadata": {},
   "source": [
    " Use one of the below code and design a 10 second movements around the shape. Take the clip as an example."
   ]
  },
  {
   "cell_type": "markdown",
   "id": "1126995a-cf8a-4a1b-ab45-5d62494a3b5c",
   "metadata": {},
   "source": [
    "### Example 1"
   ]
  },
  {
   "cell_type": "raw",
   "id": "6a7cdc98-e0f1-4b2e-a867-02e92c0b4a89",
   "metadata": {
    "tags": []
   },
   "source": [
    "#| echo: false\n",
    "%%HTML\n",
    "<video width=\"100%\" height=\"100%\" controls>\n",
    "  <source src=\"https://user-images.githubusercontent.com/51350490/229265170-401985da-82b5-4864-86c0-be9264e8e2d0.mp4\" type=\"video/mp4\">\n",
    "</video>"
   ]
  },
  {
   "cell_type": "markdown",
   "id": "2d394914-a3d5-4a99-ba7e-819da73e67ba",
   "metadata": {},
   "source": [
    "The below code should draw a large circle at bottom left and a small circle at middle right."
   ]
  },
  {
   "cell_type": "code",
   "execution_count": 2,
   "id": "3c52a22d-1e23-49ef-8142-ad9ab67906a4",
   "metadata": {
    "tags": []
   },
   "outputs": [],
   "source": [
    "#| eval: false\n",
    "#| code-fold: false\n",
    "\n",
    "(pose) => [\n",
    "        {\n",
    "        what: 'circle',\n",
    "        when: true,\n",
    "\n",
    "        where: {\n",
    "            x: 50,\n",
    "            y: 300\n",
    "        },\n",
    "        how:{\n",
    "            d:150,\n",
    "            fill:'blue'\n",
    "        }\n",
    "    },\n",
    "            {\n",
    "        what: 'circle',\n",
    "        when: true,\n",
    "\n",
    "        where: {\n",
    "            x: 500,\n",
    "            y: 200\n",
    "        },\n",
    "        how:{\n",
    "            d:50,\n",
    "            fill:'blue'\n",
    "        }\n",
    "    },\n",
    "];"
   ]
  },
  {
   "cell_type": "markdown",
   "id": "78e40cac-85e2-46eb-909f-3c6606da4b41",
   "metadata": {},
   "source": [
    "### Example 2"
   ]
  },
  {
   "cell_type": "markdown",
   "id": "809dca71-b794-4f42-83ad-57a7f2998a22",
   "metadata": {
    "tags": []
   },
   "source": [
    "The below code should give you two pink wings."
   ]
  },
  {
   "cell_type": "raw",
   "id": "19860930-aa3d-45ca-b99c-bd507d008adf",
   "metadata": {
    "tags": []
   },
   "source": [
    "#| echo: false\n",
    "%%HTML\n",
    "<video width=\"100%\" height=\"100%\" controls>\n",
    "  <source src=\"https://user-images.githubusercontent.com/51350490/229266101-d6e17ab6-206c-485f-8e95-f9d6d615e660.mov\" type=\"video/mp4\">\n",
    "</video>"
   ]
  },
  {
   "cell_type": "code",
   "execution_count": 3,
   "id": "e9b9b7b7-63bd-47c7-bf85-b7bc698f889a",
   "metadata": {
    "tags": []
   },
   "outputs": [],
   "source": [
    "#| eval: false\n",
    "#| code-fold: false\n",
    "\n",
    "(pose) => [\n",
    "{\n",
    "        what: 'triangle',\n",
    "        when: true,\n",
    "        where: {\n",
    "              x1: pose.leftShoulder.x,\n",
    "            y1: pose.leftShoulder.y,\n",
    "            x2: pose.leftElbow.x,\n",
    "            y2: pose.leftElbow.y,\n",
    "            x3: pose.leftWrist.x+100,\n",
    "            y3: pose.leftEar.y-100\n",
    "        },\n",
    "        how: {\n",
    "            fill: color(255, 0, 255, 255),\n",
    "            stroke: 255,\n",
    "            strokeWeight: 10\n",
    "        }\n",
    "    },{\n",
    "        what: 'triangle',\n",
    "        when: true,\n",
    "        where: {\n",
    "              x1: pose.rightShoulder.x,\n",
    "            y1: pose.rightShoulder.y,\n",
    "            x2: pose.rightElbow.x,\n",
    "            y2: pose.rightElbow.y,\n",
    "            x3: pose.rightWrist.x-100,\n",
    "            y3: pose.rightEar.y-100\n",
    "        },\n",
    "        how: {\n",
    "            fill: color(255, 0, 255, 255),\n",
    "            stroke: 255,\n",
    "            strokeWeight: 10\n",
    "        }\n",
    "    },\n",
    "     \n",
    "];"
   ]
  },
  {
   "cell_type": "markdown",
   "id": "1b65f5f9-f6a2-42e3-8734-ceaeb41706c1",
   "metadata": {},
   "source": [
    "### Example 3"
   ]
  },
  {
   "cell_type": "markdown",
   "id": "ab73e69b-90c3-4bfc-af5d-507a31b22f86",
   "metadata": {},
   "source": [
    "The below code should give you a cat face filter."
   ]
  },
  {
   "cell_type": "raw",
   "id": "ed00fee7-48be-4863-afa1-e57491ccd01a",
   "metadata": {
    "tags": []
   },
   "source": [
    "#| echo: false\n",
    "%%HTML\n",
    "<video width=\"100%\" height=\"100%\" controls>\n",
    "  <source src=\"https://user-images.githubusercontent.com/51350490/235204999-fec6d482-c180-41c4-9831-2481162849e6.mov\" type=\"video/mp4\">\n",
    "</video>"
   ]
  },
  {
   "cell_type": "code",
   "execution_count": 4,
   "id": "d9211578-5d5d-46a9-a39c-da4b4edcb704",
   "metadata": {
    "tags": []
   },
   "outputs": [],
   "source": [
    "#| eval: false\n",
    "#| code-fold: true\n",
    "\n",
    "(pose) => [\n",
    "    { //outer eye left\n",
    "        what: 'ellipse',\n",
    "        where: {\n",
    "            x: pose.leftEye.x,\n",
    "            y: pose.leftEye.y\n",
    "        },\n",
    "        how: {\n",
    "            fill: \"white\",\n",
    "            stroke: \"black\",\n",
    "            strokeWeight: 5,\n",
    "            w: 50,\n",
    "            h: 30\n",
    "        }\n",
    "    }, { //outer eye right\n",
    "        what: 'ellipse',\n",
    "        where: {\n",
    "            x: pose.rightEye.x,\n",
    "            y: pose.rightEye.y\n",
    "        },\n",
    "        how: {\n",
    "            fill: \"white\",\n",
    "            stroke: \"black\",\n",
    "            strokeWeight: 5,\n",
    "            w: 50,\n",
    "            h: 30\n",
    "        }\n",
    "    }, { //inner eye left\n",
    "        what: 'ellipse',\n",
    "        where: {\n",
    "            x: pose.leftEye.x,\n",
    "            y: pose.leftEye.y\n",
    "        },\n",
    "        how: {\n",
    "            fill: \"green\",\n",
    "            stroke: \"black\",\n",
    "            strokeWeight: 5,\n",
    "            w: 10,\n",
    "            h: 30\n",
    "        }\n",
    "    }, { //inner eye right\n",
    "        what: 'ellipse',\n",
    "        where: {\n",
    "            x: pose.rightEye.x,\n",
    "            y: pose.rightEye.y\n",
    "        },\n",
    "        how: {\n",
    "            fill: \"green\",\n",
    "            stroke: \"black\",\n",
    "            strokeWeight: 5,\n",
    "            w: 10,\n",
    "            h: 30\n",
    "        }\n",
    "    },\n",
    "    \n",
    "    { //nose\n",
    "        what: 'triangle',\n",
    "        where: {\n",
    "            x1: pose.nose.x,\n",
    "            y1: pose.nose.y - 30,\n",
    "            x2: pose.nose.x - 30,\n",
    "            y2: pose.nose.y + 20,\n",
    "            x3: pose.nose.x + 30,\n",
    "            y3: pose.nose.y + 20,\n",
    "        },\n",
    "        how: {\n",
    "            fill: \"black\"\n",
    "        }\n",
    "    }, \n",
    "    \n",
    "    { //left ear\n",
    "        what: 'triangle',\n",
    "        where: {\n",
    "            x1: pose.leftEye.x + 25,\n",
    "            y1: pose.leftEye.y - 150,\n",
    "            x2: pose.leftEye.x - 50,\n",
    "            y2: pose.leftEye.y - 70,\n",
    "            x3: pose.leftEye.x + 30,\n",
    "            y3: pose.leftEye.y - 50,\n",
    "        },\n",
    "        how: {\n",
    "            fill: \"black\"\n",
    "        }, \n",
    "        \n",
    "    }, { //right ear\n",
    "        what: 'triangle',\n",
    "        where: {\n",
    "            x1: pose.rightEye.x - 55,\n",
    "            y1: pose.rightEye.y - 150,\n",
    "            x2: pose.rightEye.x + 10,\n",
    "            y2: pose.rightEye.y - 70,\n",
    "            x3: pose.rightEye.x - 50,\n",
    "            y3: pose.rightEye.y - 50,\n",
    "        },\n",
    "        how: {\n",
    "            fill: \"black\"\n",
    "        },\n",
    "    }, { //left whisker mid\n",
    "        what: 'line',\n",
    "        where: {\n",
    "            x1: pose.nose.x + 40,\n",
    "            y1: pose.leftEye.y + 50,\n",
    "            x2: pose.nose.x + 105,\n",
    "            y2: pose.leftEye.y + 50,\n",
    "        },\n",
    "        how: {\n",
    "            stroke: 0,\n",
    "            strokeWeight: 5,\n",
    "        }\n",
    "    }, { //left whisker top\n",
    "        what: 'line',\n",
    "        where: {\n",
    "            x1: pose.nose.x + 40,\n",
    "            y1: pose.leftEye.y + 30,\n",
    "            x2: pose.nose.x + 105,\n",
    "            y2: pose.leftEye.y + 10,\n",
    "        },\n",
    "        how: {\n",
    "            stroke: 0,\n",
    "            strokeWeight: 5,\n",
    "        }\n",
    "    }, { //left whisker bottom\n",
    "        what: 'line',\n",
    "        where: {\n",
    "            x1: pose.nose.x + 40,\n",
    "            y1: pose.leftEye.y + 70,\n",
    "            x2: pose.nose.x + 105,\n",
    "            y2: pose.leftEye.y + 90,\n",
    "        },\n",
    "        how: {\n",
    "            stroke: 0,\n",
    "            strokeWeight: 5,\n",
    "        }\n",
    "    },\n",
    "     { //right whisker middle\n",
    "        what: 'line',\n",
    "        where: {\n",
    "            x1: pose.nose.x - 40,\n",
    "            y1: pose.rightEye.y + 50,\n",
    "            x2: pose.nose.x - 105,\n",
    "            y2: pose.rightEye.y + 50,\n",
    "        },\n",
    "        how: {\n",
    "            stroke: 0,\n",
    "            strokeWeight: 5,\n",
    "        }\n",
    "    }, { //right whisker top\n",
    "        what: 'line',\n",
    "        where: {\n",
    "            x1: pose.nose.x - 40,\n",
    "            y1: pose.rightEye.y + 30,\n",
    "            x2: pose.nose.x - 105,\n",
    "            y2: pose.rightEye.y + 10,\n",
    "        },\n",
    "        how: {\n",
    "            stroke: 0,\n",
    "            strokeWeight: 5,\n",
    "        }\n",
    "    }, { //right whisker bottom\n",
    "        what: 'line',\n",
    "        where: {\n",
    "            x1: pose.nose.x - 40,\n",
    "            y1: pose.rightEye.y + 70,\n",
    "            x2: pose.nose.x - 105,\n",
    "            y2: pose.rightEye.y + 90,\n",
    "        },\n",
    "        how: {\n",
    "            stroke: 0,\n",
    "            strokeWeight: 5,\n",
    "        }\n",
    "    }\n",
    "    \n",
    "];"
   ]
  },
  {
   "cell_type": "markdown",
   "id": "a45531af-3133-463d-835c-6e614da67f4f",
   "metadata": {},
   "source": [
    "## Exercise 2"
   ]
  },
  {
   "cell_type": "markdown",
   "id": "4f99a608-ebad-4936-963e-0ee46d7b7b64",
   "metadata": {},
   "source": [
    "Use the window below, adjust the code – dance around the shape again. If there are anything you don't understand, please refer to the interface section.\n",
    "\n",
    "When you manipulate the code and design a few-second movement around the shapes based on your manipulation."
   ]
  },
  {
   "cell_type": "raw",
   "id": "ac87020f-7e3f-4631-938e-056449d903b6",
   "metadata": {
    "tags": []
   },
   "source": [
    "#| column: screen-inset-right\n",
    "#| echo: false\n",
    "#| output: true\n",
    "%%html\n",
    "<iframe width=\"100%\" height=\"900\" allow=\"camera\" src=\"https://dancinganddabbing.github.io/danceONml/\" title=\"danceON Interface\" frameborder=\"0\" allow=\"accelerometer; autoplay; clipboard-write; encrypted-media; gyroscope; picture-in-picture\" allowfullscreen></iframe>"
   ]
  },
  {
   "cell_type": "markdown",
   "id": "346a2c6d-488c-45cd-8092-fc3e4f3d137e",
   "metadata": {},
   "source": [
    "## Exercise 3"
   ]
  },
  {
   "cell_type": "markdown",
   "id": "1e457c78-cb0c-42cd-9e63-3e4327b1c783",
   "metadata": {},
   "source": [
    "Now you should have some basic understanding of shapes and how features. Think of a movement, GIVE IT TO YOUR PEERS, and design a piece of code with your peer’s movement in mind. Focus on the movement and think about what and how the code will enhance your movement."
   ]
  },
  {
   "cell_type": "markdown",
   "id": "f046e09d-b275-41d9-9824-a0170d120c4c",
   "metadata": {},
   "source": [
    "## Discussion Questions\n",
    "\n",
    "- What was your experience with the 3 activities? \n",
    "- What can be learned from this example? STEM, dance, or social?\n",
    "- Was the concept of the coordinate system clear to you for the activities?\n",
    "- How did you use the code?\n",
    "- How did you use the movement?\n",
    "- How did the movement and shapes work together?\n",
    "- What was the easiest and hardest part of the activities? \n",
    "- What would be easy for students to understand? What would be difficult?\n",
    "- What are some questions you think students would have when using these example?\n",
    "- What are you still unsure about?\n",
    "- What are things you wanted to do and weren’t able to do?\n",
    "- How would (or if you would) adapt the process to teach your students?\n"
   ]
  }
 ],
 "metadata": {
  "kernelspec": {
   "display_name": "Python 3 (ipykernel)",
   "language": "python",
   "name": "python3"
  },
  "language_info": {
   "codemirror_mode": {
    "name": "ipython",
    "version": 3
   },
   "file_extension": ".py",
   "mimetype": "text/x-python",
   "name": "python",
   "nbconvert_exporter": "python",
   "pygments_lexer": "ipython3",
   "version": "3.10.6"
  }
 },
 "nbformat": 4,
 "nbformat_minor": 5
}
