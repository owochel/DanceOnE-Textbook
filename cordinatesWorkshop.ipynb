{
 "cells": [
  {
   "cell_type": "raw",
   "id": "19e335f0-1925-4828-96bd-91a23fd19d97",
   "metadata": {},
   "source": [
    "---\n",
    "title: \"Coordinates System\"\n",
    "toc: true\n",
    "toc-title: List of Contents\n",
    "execute:\n",
    "  enabled: true\n",
    "format: \n",
    "  html:\n",
    "    code-fold: true\n",
    "jupyter: python3\n",
    "---"
   ]
  },
  {
   "cell_type": "markdown",
   "id": "8776c2d1-722b-4e14-8b78-4b3f50f45bd4",
   "metadata": {
    "tags": []
   },
   "source": [
    "## Definition\n",
    "\n",
    "In DanceON, all shapes drawn to the screen have a position that is specified as a coordinate. All coordinates are measured as the distance from the origin in units of pixels. The coordinates are represented as **x** and **y** in DanceON. **x** represents where the object is on the horizontal axis, and **y** represents where the object is on the vertical axis. At the origin, being the **upper left** of the window, both the coordinate x and coordinate y are 0. At the **lower right** of the window, x is width, and y is height.\n"
   ]
  },
  {
   "cell_type": "markdown",
   "id": "eb68a0ee-4f5b-4c02-8227-d84817a6863c",
   "metadata": {},
   "source": [
    "As a result, the coordinates system in dance on could be understand as @fig-coordmap."
   ]
  },
  {
   "cell_type": "markdown",
   "id": "768d9523-ce20-4ae5-8adf-992c55a8b6d5",
   "metadata": {},
   "source": [
    "![A coordinates system map that shows 4 different points for (red, top left) {x: 0, y:0}, (purple, bottom left) {x: 0, y:height}, (orange, top right) {x: width, y: 0}, (pink, buttom right){x: width, y: height}](./asset/coordinates.png){#fig-coordmap}"
   ]
  },
  {
   "cell_type": "markdown",
   "id": "fbc4f429-2ba7-4229-ab30-ab19182309a7",
   "metadata": {},
   "source": [
    "These **x** and **y** expressions are universal in the languages for DanceON. It is common to find **x** and **y** used to express things related to the coordinates systems.\n",
    "\n",
    "When you see **x** and **y** at the beginning of a line where they appear by themselves such as **\"x:\"** or **\"y:\"**, it means you are **defining** the location of the object you are currently programming. \n",
    "\n",
    "However, the **x** and **y** are also used to express some pre-defined location variables for poses. For instance, you may see the names for poses are called something like *\"pose.nose.**x**\"* or *\"pose.leftWrist.**y**\"*. When the **x** and **y** appears as suffix after body parts names, they are used to express the specific numbers of coordinates of the body parts at different times. \n"
   ]
  },
  {
   "cell_type": "raw",
   "id": "2f95da11-146d-4dad-a9cb-95da016341b5",
   "metadata": {},
   "source": [
    "::: {.callout-note appearance=\"simple\"}\n",
    "Why would you also use **x** and **y** for *\"pose.nose.**x**\"* and *\"pose.leftWrist.**y**\"* instead of numbers?\n",
    "\n",
    "- Observer the location of the poses' keypoints (nose,leftWrist, leftEye, etc) on your DanceON canvas, you may easily find out that the locations of the key points change throughout the progression of your videos/webcam recordings. Because we are dealing with numbers that are constantly changing when referring to coordinates of the pose keypoints, it is easier to represent the location with **variables**(names for changing numbers). \n",
    "\n",
    "\n",
    "- Having **x** and **y** as the names indicates that they are in the same coordinates system with your object -- **\"x:\"** or **\"y:\"**.\n",
    ":::"
   ]
  },
  {
   "cell_type": "markdown",
   "id": "bfe89e68-3917-486f-bace-d023c12bd581",
   "metadata": {},
   "source": [
    "## Exercise 1"
   ]
  },
  {
   "cell_type": "code",
   "execution_count": 1,
   "id": "14f5b168-b5b7-4fa6-b864-f4f09d8fd402",
   "metadata": {},
   "outputs": [
    {
     "name": "stdout",
     "output_type": "stream",
     "text": [
      "Requirement already satisfied: jupyterquiz in /usr/local/lib/python3.10/site-packages (2.0.6)\n",
      "\n",
      "\u001b[1m[\u001b[0m\u001b[34;49mnotice\u001b[0m\u001b[1;39;49m]\u001b[0m\u001b[39;49m A new release of pip is available: \u001b[0m\u001b[31;49m23.0\u001b[0m\u001b[39;49m -> \u001b[0m\u001b[32;49m23.0.1\u001b[0m\n",
      "\u001b[1m[\u001b[0m\u001b[34;49mnotice\u001b[0m\u001b[1;39;49m]\u001b[0m\u001b[39;49m To update, run: \u001b[0m\u001b[32;49mpython3.10 -m pip install --upgrade pip\u001b[0m\n",
      "Requirement already satisfied: jupytercards in /usr/local/lib/python3.10/site-packages (1.9.9)\n",
      "\n",
      "\u001b[1m[\u001b[0m\u001b[34;49mnotice\u001b[0m\u001b[1;39;49m]\u001b[0m\u001b[39;49m A new release of pip is available: \u001b[0m\u001b[31;49m23.0\u001b[0m\u001b[39;49m -> \u001b[0m\u001b[32;49m23.0.1\u001b[0m\n",
      "\u001b[1m[\u001b[0m\u001b[34;49mnotice\u001b[0m\u001b[1;39;49m]\u001b[0m\u001b[39;49m To update, run: \u001b[0m\u001b[32;49mpython3.10 -m pip install --upgrade pip\u001b[0m\n"
     ]
    }
   ],
   "source": [
    "#| label: importing packages\n",
    "#| include: false\n",
    "\n",
    "import sys\n",
    "!pip3 install jupyterquiz\n",
    "!pip3 install jupytercards\n",
    "import jupyterquiz as qz\n",
    "import jupytercards as cd\n"
   ]
  },
  {
   "cell_type": "markdown",
   "id": "f77190b4-e1d8-4d17-ae13-812ea1b6d4d9",
   "metadata": {},
   "source": [
    " Use one of the below code and design a 10 second movements around the shape. Take the clip as an example."
   ]
  },
  {
   "cell_type": "markdown",
   "id": "1126995a-cf8a-4a1b-ab45-5d62494a3b5c",
   "metadata": {},
   "source": [
    "### Example 1"
   ]
  },
  {
   "cell_type": "code",
   "execution_count": 28,
   "id": "a0854da6-a380-41e5-bfc6-fb7809dbbdfa",
   "metadata": {
    "tags": []
   },
   "outputs": [
    {
     "ename": "SyntaxError",
     "evalue": "invalid syntax (408899605.py, line 3)",
     "output_type": "error",
     "traceback": [
      "\u001b[0;36m  Cell \u001b[0;32mIn [28], line 3\u001b[0;36m\u001b[0m\n\u001b[0;31m    <video width=\"960\" height=\"100%\" controls>\u001b[0m\n\u001b[0m    ^\u001b[0m\n\u001b[0;31mSyntaxError\u001b[0m\u001b[0;31m:\u001b[0m invalid syntax\n"
     ]
    }
   ],
   "source": [
    "#| echo: false\n",
    "%%HTML\n",
    "<video width=\"100%\" height=\"100%\" controls>\n",
    "  <source src=\"https://user-images.githubusercontent.com/51350490/229265170-401985da-82b5-4864-86c0-be9264e8e2d0.mp4\" type=\"video/mp4\">\n",
    "</video>"
   ]
  },
  {
   "cell_type": "markdown",
   "id": "2d394914-a3d5-4a99-ba7e-819da73e67ba",
   "metadata": {},
   "source": [
    "The below code should draw a large circle at bottom left and a small circle at middle right."
   ]
  },
  {
   "cell_type": "code",
   "execution_count": 23,
   "id": "3c52a22d-1e23-49ef-8142-ad9ab67906a4",
   "metadata": {
    "tags": []
   },
   "outputs": [
    {
     "ename": "SyntaxError",
     "evalue": "invalid syntax (1829994821.py, line 4)",
     "output_type": "error",
     "traceback": [
      "\u001b[0;36m  Cell \u001b[0;32mIn [23], line 4\u001b[0;36m\u001b[0m\n\u001b[0;31m    (pose) => [\u001b[0m\n\u001b[0m            ^\u001b[0m\n\u001b[0;31mSyntaxError\u001b[0m\u001b[0;31m:\u001b[0m invalid syntax\n"
     ]
    }
   ],
   "source": [
    "#| eval: false\n",
    "#| code-fold: false\n",
    "\n",
    "(pose) => [\n",
    "        {\n",
    "        what: 'circle',\n",
    "        when: true,\n",
    "\n",
    "        where: {\n",
    "            x: 50,\n",
    "            y: 300\n",
    "        },\n",
    "        how:{\n",
    "            d:150,\n",
    "            fill:'blue'\n",
    "        }\n",
    "    },\n",
    "            {\n",
    "        what: 'circle',\n",
    "        when: true,\n",
    "\n",
    "        where: {\n",
    "            x: 500,\n",
    "            y: 200\n",
    "        },\n",
    "        how:{\n",
    "            d:50,\n",
    "            fill:'blue'\n",
    "        }\n",
    "    },\n",
    "];"
   ]
  },
  {
   "cell_type": "markdown",
   "id": "78e40cac-85e2-46eb-909f-3c6606da4b41",
   "metadata": {},
   "source": [
    "### Example 2"
   ]
  },
  {
   "cell_type": "markdown",
   "id": "809dca71-b794-4f42-83ad-57a7f2998a22",
   "metadata": {
    "tags": []
   },
   "source": [
    "The below code should give you two pink wings."
   ]
  },
  {
   "cell_type": "code",
   "execution_count": 31,
   "id": "75f81c31-1886-49e6-943f-2dbc4c4c5f7e",
   "metadata": {
    "tags": []
   },
   "outputs": [
    {
     "ename": "SyntaxError",
     "evalue": "invalid syntax (509233097.py, line 3)",
     "output_type": "error",
     "traceback": [
      "\u001b[0;36m  Cell \u001b[0;32mIn [31], line 3\u001b[0;36m\u001b[0m\n\u001b[0;31m    <video width=\"100%\" height=\"100%\" controls>\u001b[0m\n\u001b[0m    ^\u001b[0m\n\u001b[0;31mSyntaxError\u001b[0m\u001b[0;31m:\u001b[0m invalid syntax\n"
     ]
    }
   ],
   "source": [
    "#| echo: false\n",
    "%%HTML\n",
    "<video width=\"100%\" height=\"100%\" controls>\n",
    "  <source src=\"https://user-images.githubusercontent.com/51350490/229266101-d6e17ab6-206c-485f-8e95-f9d6d615e660.mov\" type=\"video/mp4\">\n",
    "</video>"
   ]
  },
  {
   "cell_type": "code",
   "execution_count": 23,
   "id": "e9b9b7b7-63bd-47c7-bf85-b7bc698f889a",
   "metadata": {
    "tags": []
   },
   "outputs": [
    {
     "ename": "SyntaxError",
     "evalue": "invalid syntax (1829994821.py, line 4)",
     "output_type": "error",
     "traceback": [
      "\u001b[0;36m  Cell \u001b[0;32mIn [23], line 4\u001b[0;36m\u001b[0m\n\u001b[0;31m    (pose) => [\u001b[0m\n\u001b[0m            ^\u001b[0m\n\u001b[0;31mSyntaxError\u001b[0m\u001b[0;31m:\u001b[0m invalid syntax\n"
     ]
    }
   ],
   "source": [
    "#| eval: false\n",
    "#| code-fold: false\n",
    "\n",
    "(pose) => [\n",
    "{\n",
    "        what: 'triangle',\n",
    "        when: true,\n",
    "        where: {\n",
    "              x1: pose.leftShoulder.x,\n",
    "            y1: pose.leftShoulder.y,\n",
    "            x2: pose.leftElbow.x,\n",
    "            y2: pose.leftElbow.y,\n",
    "            x3: pose.leftWrist.x+100,\n",
    "            y3: pose.leftEar.y-100\n",
    "        },\n",
    "        how: {\n",
    "            fill: color(255, 0, 255, 255),\n",
    "            stroke: 255,\n",
    "            strokeWeight: 10\n",
    "        }\n",
    "    },{\n",
    "        what: 'triangle',\n",
    "        when: true,\n",
    "        where: {\n",
    "              x1: pose.rightShoulder.x,\n",
    "            y1: pose.rightShoulder.y,\n",
    "            x2: pose.rightElbow.x,\n",
    "            y2: pose.rightElbow.y,\n",
    "            x3: pose.rightWrist.x-100,\n",
    "            y3: pose.rightEar.y-100\n",
    "        },\n",
    "        how: {\n",
    "            fill: color(255, 0, 255, 255),\n",
    "            stroke: 255,\n",
    "            strokeWeight: 10\n",
    "        }\n",
    "    },\n",
    "     \n",
    "];"
   ]
  },
  {
   "cell_type": "markdown",
   "id": "a45531af-3133-463d-835c-6e614da67f4f",
   "metadata": {},
   "source": [
    "## Exercise 2"
   ]
  },
  {
   "cell_type": "markdown",
   "id": "4f99a608-ebad-4936-963e-0ee46d7b7b64",
   "metadata": {},
   "source": [
    "Use the window below, manipulate the code, and design a few-seconds movement around the shapes based on your manipulation. What feels different? What do you like?"
   ]
  },
  {
   "cell_type": "markdown",
   "id": "346a2c6d-488c-45cd-8092-fc3e4f3d137e",
   "metadata": {},
   "source": [
    "## Exercise 3"
   ]
  },
  {
   "cell_type": "markdown",
   "id": "1e457c78-cb0c-42cd-9e63-3e4327b1c783",
   "metadata": {},
   "source": [
    "Think of a movement, and design a piece of code with that movement in mind. "
   ]
  }
 ],
 "metadata": {
  "kernelspec": {
   "display_name": "Python 3 (ipykernel)",
   "language": "python",
   "name": "python3"
  },
  "language_info": {
   "codemirror_mode": {
    "name": "ipython",
    "version": 3
   },
   "file_extension": ".py",
   "mimetype": "text/x-python",
   "name": "python",
   "nbconvert_exporter": "python",
   "pygments_lexer": "ipython3",
   "version": "3.10.6"
  }
 },
 "nbformat": 4,
 "nbformat_minor": 5
}
