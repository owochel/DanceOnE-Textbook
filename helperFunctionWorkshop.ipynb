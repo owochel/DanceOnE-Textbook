{
 "cells": [
  {
   "cell_type": "raw",
   "id": "19e335f0-1925-4828-96bd-91a23fd19d97",
   "metadata": {},
   "source": [
    "---\n",
    "title: \"Helper Functions\"\n",
    "toc: true\n",
    "toc-title: List of Contents\n",
    "execute:\n",
    "  enabled: true\n",
    "format: \n",
    "  html:\n",
    "    page-layout: full\n",
    "    code-fold: true\n",
    "jupyter: python3\n",
    "---"
   ]
  },
  {
   "cell_type": "markdown",
   "id": "8776c2d1-722b-4e14-8b78-4b3f50f45bd4",
   "metadata": {
    "tags": []
   },
   "source": [
    "## Overlay {#sec-overlay}"
   ]
  },
  {
   "cell_type": "markdown",
   "id": "c0c29c78-5806-4510-9de3-a7ca81ec4ec8",
   "metadata": {},
   "source": [
    "There are many helper functions to help you code in danceON better. When you open the **control** menu on the top right corner, you can see there is a tab called **Overlay**. See @fig-overlay. All of these options are visual tools that gives you some references about the content in the canvas.\n"
   ]
  },
  {
   "cell_type": "markdown",
   "id": "ef288279-a83f-4e15-88cf-671a5bee53c5",
   "metadata": {},
   "source": [
    ":::{.column-margin}\n",
    "![Overlays menu](./asset/interface/overlay.png){#fig-overlay}\n",
    ":::"
   ]
  },
  {
   "cell_type": "markdown",
   "id": "2cba1f66-aaaa-4168-98ef-4eba7d00bd51",
   "metadata": {},
   "source": [
    "* The cursor position gives you the numerical value of your mouse position on the canvas. We will go over this more in the coordinate system chapter.\n",
    "* The skeleton draws a small circle on all the anchor point on the skeleton of how the computer model determines the human skeleton. Hover over the specific circle with your mouse, and you will see the name of which anchor point you are referring to. You will use that as the variable name for coding the location bounded to the skeleton for your sketch.\n",
    "* The classifier put some numbers on the top right corner that shows if how well a machine learning model determine certain poses on the frame. We will go over this more in the machine learning chapter."
   ]
  },
  {
   "cell_type": "raw",
   "id": "e9a7ed31-8009-439b-8baa-83222abadbae",
   "metadata": {},
   "source": [
    ":::{.callout-tip appearance=\"simple\"}\n",
    "These are important helper function to give you references on the canvas and skeleton when creating your sketch. Use them when you are coding will help you familiarize the coordinate system and skeleton faster. \n",
    ":::"
   ]
  },
  {
   "cell_type": "markdown",
   "id": "71baffd2-0b32-4d40-8869-efdbaab065b4",
   "metadata": {},
   "source": [
    "## Code Management {#sec-codeManagement}\n",
    "\n",
    "You may realize if you close your danceON tab and re-opens the tab, you will most likely to see the code you were last working on without needing to save it somewhere. It may seems like a convenience at first to have all the code cached in the browser. However, it is not the safest way to manage your code. And as many other software, it is crucial that you save your work and manage the version of your code."
   ]
  },
  {
   "cell_type": "markdown",
   "id": "abe6e85b-87ca-451c-a193-107e0de493e0",
   "metadata": {},
   "source": [
    ":::{.column-margin}\n",
    "![Code menu](./asset/interface/codeUpload.png){#fig-code}\n",
    ":::"
   ]
  },
  {
   "cell_type": "markdown",
   "id": "7b981302-e9c6-4f54-8df6-3b1b344c21da",
   "metadata": {},
   "source": [
    "\n",
    "In the control menu, you will also find the **Code** menu that allows you to manage your code. To save your work, simply use the **download** button which will save your work in a JavaScript file on your local device. Put it somewhere you remembers and recognize. When you want to work on this file, use the **upload** button and locate it on your computer to resume working."
   ]
  },
  {
   "cell_type": "markdown",
   "id": "e0e62a4b-c0fc-4824-8e2d-a1681a43a7be",
   "metadata": {},
   "source": [
    "## Machine Learning Model Upload {#sec-machineLerning}\n",
    "\n",
    "The **Machine Learning Model** menu allows you to upload a [teachable machine](https://teachablemachine.withgoogle.com/) model that you can train yourself. \n"
   ]
  },
  {
   "cell_type": "raw",
   "id": "fb00b717-38e6-4bf9-ace9-fb33d608f787",
   "metadata": {},
   "source": [
    ":::{.column-margin}\n",
    "![Machine Learning Model menu](./asset/interface/teachableMachine.png){#fig-ml}\n",
    ":::"
   ]
  }
 ],
 "metadata": {
  "kernelspec": {
   "display_name": "Python 3 (ipykernel)",
   "language": "python",
   "name": "python3"
  },
  "language_info": {
   "codemirror_mode": {
    "name": "ipython",
    "version": 3
   },
   "file_extension": ".py",
   "mimetype": "text/x-python",
   "name": "python",
   "nbconvert_exporter": "python",
   "pygments_lexer": "ipython3",
   "version": "3.10.6"
  }
 },
 "nbformat": 4,
 "nbformat_minor": 5
}
