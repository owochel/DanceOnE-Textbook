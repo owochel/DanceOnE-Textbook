{
 "cells": [
  {
   "cell_type": "raw",
   "id": "0c23b2ef-24e9-43d3-867a-5d685e6f4425",
   "metadata": {
    "tags": []
   },
   "source": [
    "---\n",
    "title: \"Create Your Own ML Model\"\n",
    "toc: true\n",
    "toc-title: List of Contents\n",
    "execute:\n",
    "  enabled: true\n",
    "format: \n",
    "  html:\n",
    "    code-fold: true\n",
    "crossref:\n",
    "  chapters: true\n",
    "jupyter: python3\n",
    "---"
   ]
  },
  {
   "cell_type": "markdown",
   "id": "e0b6b4c8-565a-4535-af54-1145bfab2deb",
   "metadata": {
    "tags": []
   },
   "source": [
    "## Creating a pose model on Teachable Machine"
   ]
  },
  {
   "cell_type": "markdown",
   "id": "bab44838-6f94-4cfd-9e22-12672b7c709e",
   "metadata": {
    "tags": []
   },
   "source": [
    "Think about 2 different poses you want to create a model for — what are the names of these poses? \n",
    "\n",
    "You will use these pose ideas to create a model using [Google Teachable Machine](https://teachablemachine.withgoogle.com/).\n",
    "\n",
    "First, you will create a pose project. Open [Google Teachable Machine](https://teachablemachine.withgoogle.com/) on a separate browser window/tab. \n",
    "\n",
    "Then, click “Get Started” and then, click “Pose Project”. This will open up a workspace for you to create a pose detection model.\n",
    "\n",
    "<img src=\"./asset/machineLearning/GTMStarted.png\" alt=\"Click Get Started at Google Teachable Machine\" width=\"50%\"/><img src=\"./asset/machineLearning/GTMPoseObject.png\" alt=\"Click Pose Project at Google Teachable Machine\" width=\"50%\"/>\n",
    "\n"
   ]
  },
  {
   "cell_type": "markdown",
   "id": "4440e91b-e066-49b7-a2bb-b6577f966527",
   "metadata": {},
   "source": [
    "\n",
    "## Gather data for your pose model\n",
    "\n",
    "After starting up a pose model, the next step is for you to gather data for your machine learning model to train on. Watch the quick clip below on how to do this.\n"
   ]
  },
  {
   "cell_type": "raw",
   "id": "1f52e085-80b4-45ce-a6f9-967ed80cc740",
   "metadata": {
    "tags": []
   },
   "source": [
    "#| echo: false\n",
    "\n",
    "<iframe width=\"100%\" height=\"563\" src=\"https://www.youtube.com/embed/DFBbSTvtpy4\" title=\"Teachable Machine Tutorial 1: Gather\" frameborder=\"0\" allow=\"accelerometer; autoplay; clipboard-write; encrypted-media; gyroscope; picture-in-picture; web-share\" allowfullscreen></iframe>"
   ]
  },
  {
   "cell_type": "markdown",
   "id": "b0e5e1e0-df8c-4c6e-87d1-0868a7dd0fe3",
   "metadata": {},
   "source": [
    "Make sure you change the settings so that “Hold to Record” is off.\n",
    "\n",
    "Capture one 10-second set of training examples for each of your classes. Use the names you thought of for each of your poses as your class names (like the “Wings Up” and “Wings Down” example you saw earlier).\n",
    "\n",
    "\n",
    "## Train your model on the data you created\n",
    "\n",
    "After gathering your data, the next step is for you to train your model on the data you gathered. Watch the quick clip below on how to do this.\n"
   ]
  },
  {
   "cell_type": "raw",
   "id": "240709ad-8b5f-4d67-bd4a-c38d54c3c584",
   "metadata": {},
   "source": [
    "#| echo: false\n",
    "\n",
    "<iframe width=\"100%\" height=\"563\" src=\"https://www.youtube.com/embed/CO67EQ0ZWgA\" title=\"Teachable Machine Tutorial 2: Train\" frameborder=\"0\" allow=\"accelerometer; autoplay; clipboard-write; encrypted-media; gyroscope; picture-in-picture; web-share\" allowfullscreen></iframe>"
   ]
  },
  {
   "cell_type": "markdown",
   "id": "b6533487-1254-4744-8b31-33fdba2ad529",
   "metadata": {},
   "source": [
    "Click “Train Model” and wait — make sure you leave the window/tab open as you wait! \n",
    "\n",
    "After your model is done training, you can test your model out directly on your pose project workspace.\n",
    "\n",
    "## Export the model you created\n",
    "\n",
    "The last step is for you to export the model you trained. Watch the quick clip below on how to do this."
   ]
  },
  {
   "cell_type": "raw",
   "id": "6e6e3520-2e8e-43fd-b51e-8f39087c7274",
   "metadata": {},
   "source": [
    "#| echo: false\n",
    "\n",
    "<iframe width=\"100%\" height=\"563\" src=\"https://www.youtube.com/embed/n-zeeRLBgd0\" title=\"Teachable Machine Tutorial 3: Export\" frameborder=\"0\" allow=\"accelerometer; autoplay; clipboard-write; encrypted-media; gyroscope; picture-in-picture; web-share\" allowfullscreen></iframe>"
   ]
  },
  {
   "cell_type": "markdown",
   "id": "57bbfdbb-1b8a-4697-b6ea-53a70e614c47",
   "metadata": {},
   "source": [
    "Click “Export Model”. In the popup, click on the “Upload” button and copy the shareable link into [danceON](https://dancinganddabbing.github.io/danceONml/) (the same way you copied the model link in the [previous exercise](./machineLearningWorkshop.ipynb#sec-MachineLearning)).\n",
    "\n",
    "\n",
    "## Update the code in danceON to reflect your poses\n",
    "\n",
    "Feel free to update the code from the previous activity so that it corresponds to the names of the new poses you created for your model. For example, instead of drawing “wings”, you might want to draw circles or other shapes!\n",
    "\n",
    "## Discussion and share-out\n",
    "\n",
    "1. What poses did you train on Teachable Machine?\n",
    "2. What special cases did you consider as you trained your model? \n",
    "3. In what cases or situations did your model fail? Why do you think that happens?\n",
    "4. If someone else used your model, do you think it will work perfectly for them? Why or why not?"
   ]
  },
  {
   "cell_type": "raw",
   "id": "6da50f1a-d60a-49a0-9482-fa7f6ac40384",
   "metadata": {
    "tags": []
   },
   "source": [
    "::: {.callout-warning}\n",
    "## Heads Up!\n",
    "\n",
    "Note: Before the next activity, please download your danceON code and make sure to copy your model somewhere for record-keeping!\n",
    ":::"
   ]
  },
  {
   "cell_type": "markdown",
   "id": "2fa78438-3749-499c-a341-ca13a5df4f1d",
   "metadata": {},
   "source": [
    "## Trade and test machine learning models!\n",
    "\n",
    "The best way to test out how well your model works is to have someone else use the model you created!\n",
    "\n",
    "1. How well does your peer’s model work for you?\n",
    "2. What are your observations about your peer’s model?\n",
    "3. In what cases is your peer’s model failing? Why do you think that’s the case?\n",
    "4. What would you suggest to improve the performance of the model?\n",
    "\n",
    "\n",
    "## Wrap-up\n",
    "\n",
    "Discussion Questions:\n",
    "\n",
    "1. What are your thoughts about the activities in today's session?\n",
    "2. What would be your key takeaway about the intersection and machine learning and dance from today's session?\n",
    "\n",
    "Think about possible activities that you can do with students using Teachable Machine and danceON. Bring your ideas to tomorrow’s session!\n",
    "\n",
    "Please fill out a [quick survey](https://nyu.qualtrics.com/jfe/form/SV_9Y6xO0y0aoMKwMm) about today’s session. \n"
   ]
  }
 ],
 "metadata": {
  "kernelspec": {
   "display_name": "Python 3 (ipykernel)",
   "language": "python",
   "name": "python3"
  },
  "language_info": {
   "codemirror_mode": {
    "name": "ipython",
    "version": 3
   },
   "file_extension": ".py",
   "mimetype": "text/x-python",
   "name": "python",
   "nbconvert_exporter": "python",
   "pygments_lexer": "ipython3",
   "version": "3.10.6"
  }
 },
 "nbformat": 4,
 "nbformat_minor": 5
}
