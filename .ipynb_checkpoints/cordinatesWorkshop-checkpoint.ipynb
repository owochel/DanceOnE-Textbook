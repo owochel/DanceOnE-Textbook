{
 "cells": [
  {
   "cell_type": "raw",
   "id": "19e335f0-1925-4828-96bd-91a23fd19d97",
   "metadata": {},
   "source": [
    "---\n",
    "title: \"Coordinates System\"\n",
    "toc: false\n",
    "execute:\n",
    "  enabled: true\n",
    "format: \n",
    "  html:\n",
    "    page-layout: full\n",
    "    code-fold: true\n",
    "jupyter: python3\n",
    "---"
   ]
  },
  {
   "cell_type": "markdown",
   "id": "8776c2d1-722b-4e14-8b78-4b3f50f45bd4",
   "metadata": {
    "tags": []
   },
   "source": [
    "## Definition\n",
    "\n",
    "In danceON, all shapes drawn to the screen have a position that is specified as a coordinate. All coordinates are measured as the distance from the origin in units of pixels. The coordinates are represented as **x** and **y** in danceON. **x** represents where the object is on the horizontal axis, and **y** represents where the object is on the vertical axis. At the origin, being the **upper left** of the window, both the coordinate x and coordinate y are 0. At the **lower right** of the window, x is width, and y is height.\n"
   ]
  },
  {
   "cell_type": "markdown",
   "id": "eb68a0ee-4f5b-4c02-8227-d84817a6863c",
   "metadata": {},
   "source": [
    "As a result, the coordinates system in dance on could be understand as @fig-coordmap."
   ]
  },
  {
   "cell_type": "markdown",
   "id": "768d9523-ce20-4ae5-8adf-992c55a8b6d5",
   "metadata": {},
   "source": [
    "![A coordinates system map that shows 4 different points for (red, top left) {x: 0, y:0}, (purple, bottom left) {x: 0, y:height}, (orange, top right) {x: width, y: 0}, (pink, buttom right){x: width, y: height}](./asset/coordinates.png){#fig-coordmap}"
   ]
  },
  {
   "cell_type": "markdown",
   "id": "fbc4f429-2ba7-4229-ab30-ab19182309a7",
   "metadata": {},
   "source": [
    "These **x** and **y** expressions are universal in the languages for danceON. It is common to find **x** and **y** used to express things related to the coordinates systems.\n",
    "\n",
    "When you see **x** and **y** at the beginning of a line where they appear by themselves such as **\"x:\"** or **\"y:\"**, it means you are **defining** the location of the object you are currently programming. \n",
    "\n",
    "However, the **x** and **y** are also used to express some pre-defined location variables for poses. For instance, you may see the names for poses are called something like *\"pose.nose.**x**\"* or *\"pose.leftWrist.**y**\"*. When the **x** and **y** appears as suffix after body parts names, they are used to express the specific numbers of coordinates of the body parts at different times. \n"
   ]
  },
  {
   "cell_type": "raw",
   "id": "2f95da11-146d-4dad-a9cb-95da016341b5",
   "metadata": {},
   "source": [
    "::: {.callout-note appearance=\"simple\"}\n",
    "Why would you also use **x** and **y** for *\"pose.nose.**x**\"* and *\"pose.leftWrist.**y**\"* instead of numbers?\n",
    "\n",
    "- Observer the location of the poses' keypoints (nose,leftWrist, leftEye, etc) on your danceON canvas, you may easily find out that the locations of the key points change throughout the progression of your videos/webcam recordings. Because we are dealing with numbers that are constantly changing when referring to coordinates of the pose keypoints, it is easier to represent the location with **variables**(names for changing numbers). \n",
    "\n",
    "\n",
    "- Having **x** and **y** as the names indicates that they are in the same coordinates system with your object -- **\"x:\"** or **\"y:\"**.\n",
    ":::"
   ]
  },
  {
   "cell_type": "markdown",
   "id": "bfe89e68-3917-486f-bace-d023c12bd581",
   "metadata": {},
   "source": [
    "## Exercise 1"
   ]
  },
  {
   "cell_type": "code",
   "execution_count": 3,
   "id": "14f5b168-b5b7-4fa6-b864-f4f09d8fd402",
   "metadata": {
    "tags": []
   },
   "outputs": [
    {
     "name": "stdout",
     "output_type": "stream",
     "text": [
      "Requirement already satisfied: jupyterquiz in /usr/local/lib/python3.10/site-packages (2.0.6)\n",
      "\n",
      "\u001b[1m[\u001b[0m\u001b[34;49mnotice\u001b[0m\u001b[1;39;49m]\u001b[0m\u001b[39;49m A new release of pip is available: \u001b[0m\u001b[31;49m23.0\u001b[0m\u001b[39;49m -> \u001b[0m\u001b[32;49m23.1.2\u001b[0m\n",
      "\u001b[1m[\u001b[0m\u001b[34;49mnotice\u001b[0m\u001b[1;39;49m]\u001b[0m\u001b[39;49m To update, run: \u001b[0m\u001b[32;49mpython3.10 -m pip install --upgrade pip\u001b[0m\n",
      "Requirement already satisfied: jupytercards in /usr/local/lib/python3.10/site-packages (1.9.9)\n",
      "\n",
      "\u001b[1m[\u001b[0m\u001b[34;49mnotice\u001b[0m\u001b[1;39;49m]\u001b[0m\u001b[39;49m A new release of pip is available: \u001b[0m\u001b[31;49m23.0\u001b[0m\u001b[39;49m -> \u001b[0m\u001b[32;49m23.1.2\u001b[0m\n",
      "\u001b[1m[\u001b[0m\u001b[34;49mnotice\u001b[0m\u001b[1;39;49m]\u001b[0m\u001b[39;49m To update, run: \u001b[0m\u001b[32;49mpython3.10 -m pip install --upgrade pip\u001b[0m\n"
     ]
    }
   ],
   "source": [
    "#| label: importing packages\n",
    "#| include: false\n",
    "\n",
    "import sys\n",
    "!pip3 install jupyterquiz\n",
    "!pip3 install jupytercards\n",
    "import jupyterquiz as qz\n",
    "import jupytercards as cd\n"
   ]
  },
  {
   "cell_type": "markdown",
   "id": "f77190b4-e1d8-4d17-ae13-812ea1b6d4d9",
   "metadata": {},
   "source": [
    " Use one of the below code and design a 10 second movements around the shape. Take the clip as an example."
   ]
  },
  {
   "cell_type": "markdown",
   "id": "1126995a-cf8a-4a1b-ab45-5d62494a3b5c",
   "metadata": {},
   "source": [
    "### Exercise 1"
   ]
  },
  {
   "cell_type": "markdown",
   "id": "2d394914-a3d5-4a99-ba7e-819da73e67ba",
   "metadata": {},
   "source": [
    "The below code should draw a large circle at bottom left and a small circle at middle right. The code of this example can also be found at the example called two blue circles. \n",
    "\n",
    "In this example, you should see me moving back and forth to play around the depth of the image as well as the size of my figure. Manipulating my position on the canvas. The goal of this exercise is to 1) warm you up with the interface of danceON and danceON canvas 2) familiarize you with the coordinate system and translation of the coordinate system cognitively. This has been a challenge in the past study we’ve done with students. We want to scaffold the concept as much as possible before we dive into the code aspect."
   ]
  },
  {
   "cell_type": "raw",
   "id": "6a7cdc98-e0f1-4b2e-a867-02e92c0b4a89",
   "metadata": {
    "tags": []
   },
   "source": [
    "#| echo: false\n",
    "<video width=\"100%\" height=\"100%\" controls>\n",
    "  <source src=\"https://user-images.githubusercontent.com/51350490/229265170-401985da-82b5-4864-86c0-be9264e8e2d0.mp4\" type=\"video/mp4\">\n",
    "</video>"
   ]
  },
  {
   "cell_type": "code",
   "execution_count": 3,
   "id": "3c52a22d-1e23-49ef-8142-ad9ab67906a4",
   "metadata": {
    "tags": []
   },
   "outputs": [],
   "source": [
    "#| eval: false\n",
    "#| code-fold: false\n",
    "\n",
    "(pose) => [\n",
    "        {\n",
    "        what: 'circle',\n",
    "        when: true,\n",
    "\n",
    "        where: {\n",
    "            x: 50,\n",
    "            y: 300\n",
    "        },\n",
    "        how:{\n",
    "            d:150,\n",
    "            fill:'blue'\n",
    "        }\n",
    "    },\n",
    "            {\n",
    "        what: 'circle',\n",
    "        when: true,\n",
    "\n",
    "        where: {\n",
    "            x: 500,\n",
    "            y: 200\n",
    "        },\n",
    "        how:{\n",
    "            d:50,\n",
    "            fill:'blue'\n",
    "        }\n",
    "    },\n",
    "];"
   ]
  },
  {
   "cell_type": "markdown",
   "id": "1d449733-28d9-44d8-8a38-6763fb2af6ce",
   "metadata": {},
   "source": [
    "With your peers, design a single-person movement that is a few-second-long with the two circles on the screen.  Note that danceON is using computer vision model that only supports one skeleton on the screen."
   ]
  },
  {
   "cell_type": "markdown",
   "id": "78e40cac-85e2-46eb-909f-3c6606da4b41",
   "metadata": {},
   "source": [
    "### Exercise 2"
   ]
  },
  {
   "cell_type": "markdown",
   "id": "809dca71-b794-4f42-83ad-57a7f2998a22",
   "metadata": {
    "tags": []
   },
   "source": [
    "We will dive into the coding aspect of danceON. The below code should give you two pink wings. The coordinate of the triangles are bounded to the body parts to make it looks more wing-like. The way triangles are coded are basically declaring where you would want the three apexes of the triangle to be. In this example, all three apexes are bounded in relation to a body part."
   ]
  },
  {
   "cell_type": "raw",
   "id": "19860930-aa3d-45ca-b99c-bd507d008adf",
   "metadata": {
    "tags": []
   },
   "source": [
    "#| echo: false\n",
    "<video width=\"100%\" height=\"100%\" controls>\n",
    "  <source src=\"https://user-images.githubusercontent.com/51350490/229266101-d6e17ab6-206c-485f-8e95-f9d6d615e660.mov\" type=\"video/mp4\">\n",
    "</video>"
   ]
  },
  {
   "cell_type": "code",
   "execution_count": 6,
   "id": "e9b9b7b7-63bd-47c7-bf85-b7bc698f889a",
   "metadata": {
    "tags": []
   },
   "outputs": [
    {
     "ename": "SyntaxError",
     "evalue": "invalid syntax (4064444126.py, line 4)",
     "output_type": "error",
     "traceback": [
      "\u001b[0;36m  Cell \u001b[0;32mIn [6], line 4\u001b[0;36m\u001b[0m\n\u001b[0;31m    (pose) => [\u001b[0m\n\u001b[0m            ^\u001b[0m\n\u001b[0;31mSyntaxError\u001b[0m\u001b[0;31m:\u001b[0m invalid syntax\n"
     ]
    }
   ],
   "source": [
    "#| eval: false\n",
    "#| code-fold: false\n",
    "\n",
    "(pose) => [\n",
    "{\n",
    "        what: 'triangle',\n",
    "        when: true,\n",
    "        where: {\n",
    "              x1: pose.leftShoulder.x,\n",
    "            y1: pose.leftShoulder.y,\n",
    "            x2: pose.leftElbow.x,\n",
    "            y2: pose.leftElbow.y,\n",
    "            x3: pose.leftWrist.x+100,\n",
    "            y3: pose.leftEar.y-100\n",
    "        },\n",
    "        how: {\n",
    "            fill: color(255, 0, 255, 255),\n",
    "            stroke: 255,\n",
    "            strokeWeight: 10\n",
    "        }\n",
    "    },{\n",
    "        what: 'triangle',\n",
    "        when: true,\n",
    "        where: {\n",
    "              x1: pose.rightShoulder.x,\n",
    "            y1: pose.rightShoulder.y,\n",
    "            x2: pose.rightElbow.x,\n",
    "            y2: pose.rightElbow.y,\n",
    "            x3: pose.rightWrist.x-100,\n",
    "            y3: pose.rightEar.y-100\n",
    "        },\n",
    "        how: {\n",
    "            fill: color(255, 0, 255, 255),\n",
    "            stroke: 255,\n",
    "            strokeWeight: 10\n",
    "        }\n",
    "    },\n",
    "     \n",
    "];"
   ]
  },
  {
   "cell_type": "markdown",
   "id": "ab73e69b-90c3-4bfc-af5d-507a31b22f86",
   "metadata": {},
   "source": [
    "With the similar principle of bonding shapes to body coordinates, the below code should give you a cat face filter. The code of this are folded. You may click the triangle to expand and copy the code. Or you can find this example in the example tab of your danceON page."
   ]
  },
  {
   "cell_type": "raw",
   "id": "ed00fee7-48be-4863-afa1-e57491ccd01a",
   "metadata": {
    "tags": []
   },
   "source": [
    "#| echo: false\n",
    "<video width=\"100%\" height=\"100%\" controls>\n",
    "  <source src=\"https://user-images.githubusercontent.com/51350490/235204999-fec6d482-c180-41c4-9831-2481162849e6.mov\" type=\"video/mp4\">\n",
    "</video>"
   ]
  },
  {
   "cell_type": "code",
   "execution_count": 7,
   "id": "d9211578-5d5d-46a9-a39c-da4b4edcb704",
   "metadata": {
    "tags": []
   },
   "outputs": [
    {
     "ename": "SyntaxError",
     "evalue": "invalid syntax (524221077.py, line 4)",
     "output_type": "error",
     "traceback": [
      "\u001b[0;36m  Cell \u001b[0;32mIn [7], line 4\u001b[0;36m\u001b[0m\n\u001b[0;31m    (pose) => [\u001b[0m\n\u001b[0m            ^\u001b[0m\n\u001b[0;31mSyntaxError\u001b[0m\u001b[0;31m:\u001b[0m invalid syntax\n"
     ]
    }
   ],
   "source": [
    "#| eval: false\n",
    "#| code-fold: true\n",
    "\n",
    "(pose) => [\n",
    "    { //outer eye left\n",
    "        what: 'ellipse',\n",
    "        where: {\n",
    "            x: pose.leftEye.x,\n",
    "            y: pose.leftEye.y\n",
    "        },\n",
    "        how: {\n",
    "            fill: \"white\",\n",
    "            stroke: \"black\",\n",
    "            strokeWeight: 5,\n",
    "            w: 50,\n",
    "            h: 30\n",
    "        }\n",
    "    }, { //outer eye right\n",
    "        what: 'ellipse',\n",
    "        where: {\n",
    "            x: pose.rightEye.x,\n",
    "            y: pose.rightEye.y\n",
    "        },\n",
    "        how: {\n",
    "            fill: \"white\",\n",
    "            stroke: \"black\",\n",
    "            strokeWeight: 5,\n",
    "            w: 50,\n",
    "            h: 30\n",
    "        }\n",
    "    }, { //inner eye left\n",
    "        what: 'ellipse',\n",
    "        where: {\n",
    "            x: pose.leftEye.x,\n",
    "            y: pose.leftEye.y\n",
    "        },\n",
    "        how: {\n",
    "            fill: \"green\",\n",
    "            stroke: \"black\",\n",
    "            strokeWeight: 5,\n",
    "            w: 10,\n",
    "            h: 30\n",
    "        }\n",
    "    }, { //inner eye right\n",
    "        what: 'ellipse',\n",
    "        where: {\n",
    "            x: pose.rightEye.x,\n",
    "            y: pose.rightEye.y\n",
    "        },\n",
    "        how: {\n",
    "            fill: \"green\",\n",
    "            stroke: \"black\",\n",
    "            strokeWeight: 5,\n",
    "            w: 10,\n",
    "            h: 30\n",
    "        }\n",
    "    },\n",
    "    \n",
    "    { //nose\n",
    "        what: 'triangle',\n",
    "        where: {\n",
    "            x1: pose.nose.x,\n",
    "            y1: pose.nose.y - 30,\n",
    "            x2: pose.nose.x - 30,\n",
    "            y2: pose.nose.y + 20,\n",
    "            x3: pose.nose.x + 30,\n",
    "            y3: pose.nose.y + 20,\n",
    "        },\n",
    "        how: {\n",
    "            fill: \"black\"\n",
    "        }\n",
    "    }, \n",
    "    \n",
    "    { //left ear\n",
    "        what: 'triangle',\n",
    "        where: {\n",
    "            x1: pose.leftEye.x + 25,\n",
    "            y1: pose.leftEye.y - 150,\n",
    "            x2: pose.leftEye.x - 50,\n",
    "            y2: pose.leftEye.y - 70,\n",
    "            x3: pose.leftEye.x + 30,\n",
    "            y3: pose.leftEye.y - 50,\n",
    "        },\n",
    "        how: {\n",
    "            fill: \"black\"\n",
    "        }, \n",
    "        \n",
    "    }, { //right ear\n",
    "        what: 'triangle',\n",
    "        where: {\n",
    "            x1: pose.rightEye.x - 55,\n",
    "            y1: pose.rightEye.y - 150,\n",
    "            x2: pose.rightEye.x + 10,\n",
    "            y2: pose.rightEye.y - 70,\n",
    "            x3: pose.rightEye.x - 50,\n",
    "            y3: pose.rightEye.y - 50,\n",
    "        },\n",
    "        how: {\n",
    "            fill: \"black\"\n",
    "        },\n",
    "    }, { //left whisker mid\n",
    "        what: 'line',\n",
    "        where: {\n",
    "            x1: pose.nose.x + 40,\n",
    "            y1: pose.leftEye.y + 50,\n",
    "            x2: pose.nose.x + 105,\n",
    "            y2: pose.leftEye.y + 50,\n",
    "        },\n",
    "        how: {\n",
    "            stroke: 0,\n",
    "            strokeWeight: 5,\n",
    "        }\n",
    "    }, { //left whisker top\n",
    "        what: 'line',\n",
    "        where: {\n",
    "            x1: pose.nose.x + 40,\n",
    "            y1: pose.leftEye.y + 30,\n",
    "            x2: pose.nose.x + 105,\n",
    "            y2: pose.leftEye.y + 10,\n",
    "        },\n",
    "        how: {\n",
    "            stroke: 0,\n",
    "            strokeWeight: 5,\n",
    "        }\n",
    "    }, { //left whisker bottom\n",
    "        what: 'line',\n",
    "        where: {\n",
    "            x1: pose.nose.x + 40,\n",
    "            y1: pose.leftEye.y + 70,\n",
    "            x2: pose.nose.x + 105,\n",
    "            y2: pose.leftEye.y + 90,\n",
    "        },\n",
    "        how: {\n",
    "            stroke: 0,\n",
    "            strokeWeight: 5,\n",
    "        }\n",
    "    },\n",
    "     { //right whisker middle\n",
    "        what: 'line',\n",
    "        where: {\n",
    "            x1: pose.nose.x - 40,\n",
    "            y1: pose.rightEye.y + 50,\n",
    "            x2: pose.nose.x - 105,\n",
    "            y2: pose.rightEye.y + 50,\n",
    "        },\n",
    "        how: {\n",
    "            stroke: 0,\n",
    "            strokeWeight: 5,\n",
    "        }\n",
    "    }, { //right whisker top\n",
    "        what: 'line',\n",
    "        where: {\n",
    "            x1: pose.nose.x - 40,\n",
    "            y1: pose.rightEye.y + 30,\n",
    "            x2: pose.nose.x - 105,\n",
    "            y2: pose.rightEye.y + 10,\n",
    "        },\n",
    "        how: {\n",
    "            stroke: 0,\n",
    "            strokeWeight: 5,\n",
    "        }\n",
    "    }, { //right whisker bottom\n",
    "        what: 'line',\n",
    "        where: {\n",
    "            x1: pose.nose.x - 40,\n",
    "            y1: pose.rightEye.y + 70,\n",
    "            x2: pose.nose.x - 105,\n",
    "            y2: pose.rightEye.y + 90,\n",
    "        },\n",
    "        how: {\n",
    "            stroke: 0,\n",
    "            strokeWeight: 5,\n",
    "        }\n",
    "    }\n",
    "    \n",
    "];"
   ]
  },
  {
   "cell_type": "markdown",
   "id": "4f99a608-ebad-4936-963e-0ee46d7b7b64",
   "metadata": {},
   "source": [
    "After seeing more examples, with your peers, pick one that speaks to you and manipulate one of the examples and design a movement around the manipulated code."
   ]
  },
  {
   "cell_type": "markdown",
   "id": "f046e09d-b275-41d9-9824-a0170d120c4c",
   "metadata": {},
   "source": [
    "## General Discussion Questions\n",
    "\n",
    "- What was your experience with the 3 activities? \n",
    "- What can be learned from this example? STEM, dance, or social?\n",
    "- Was the concept of the coordinate system clear to you for the activities?\n",
    "- What was the easiest and hardest part of the activities? \n",
    "- What are things you wanted to do and weren’t able to do?\n",
    "- What are some questions you think students would have when using these example?\n",
    "- How would (or if you would) adapt the process to teach your students?\n"
   ]
  }
 ],
 "metadata": {
  "kernelspec": {
   "display_name": "Python 3 (ipykernel)",
   "language": "python",
   "name": "python3"
  },
  "language_info": {
   "codemirror_mode": {
    "name": "ipython",
    "version": 3
   },
   "file_extension": ".py",
   "mimetype": "text/x-python",
   "name": "python",
   "nbconvert_exporter": "python",
   "pygments_lexer": "ipython3",
   "version": "3.10.6"
  }
 },
 "nbformat": 4,
 "nbformat_minor": 5
}
