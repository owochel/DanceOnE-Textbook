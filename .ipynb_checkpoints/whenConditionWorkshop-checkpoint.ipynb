{
 "cells": [
  {
   "cell_type": "raw",
   "id": "9d2fad3b-68fc-4f4b-8bcd-31e0d2cac0b5",
   "metadata": {
    "tags": []
   },
   "source": [
    "---\n",
    "title: \"When Codition\"\n",
    "toc: true\n",
    "toc-title: List of Contents\n",
    "execute:\n",
    "  enabled: true\n",
    "format: \n",
    "  html:\n",
    "    code-fold: true\n",
    "jupyter: python3\n",
    "---"
   ]
  },
  {
   "cell_type": "markdown",
   "id": "861f4f33-afb9-438c-a308-9205969e83f4",
   "metadata": {},
   "source": [
    "## Educational Vocabularies {#sec-vocabularies}\n",
    "\n",
    "On the index card, wrote out concepts that you've taught or think is useful to teach to students.\n",
    "For instance, coding concept could be –- coordinate system, when conditionals, etc\n",
    "For dancers, this may be rhythm pattern and musicality, body awareness, stage composition, etc\n",
    "We will review and keep enrich this vocabulary and use the index cards for future references. "
   ]
  },
  {
   "cell_type": "markdown",
   "id": "7458c257-4c9b-4cad-b17f-64800c923608",
   "metadata": {},
   "source": [
    "## Embodiment Exercise {#sec-embodiments}\n",
    "- Stand in the center of the room with your feet hip-distance apart and your arms relaxed at your sides.\n",
    "- Close your eyes and take a few deep breaths, focusing on your body and your breath.\n",
    "- Open your eyes and imagine that your body is a paintbrush, and the floor is a canvas.\n",
    "- Slowly begin to move your body in any way that feels natural, allowing your limbs to sweep across the floor and your torso to twist and turn.\n",
    "- As you move, imagine that you are painting a picture on the floor with your body. Experiment with different shapes and lines, using your arms, legs, and torso to create interesting patterns. \n",
    "- Or you can be very specific, be very visual with the image you are creating\n",
    "- Continue moving and painting for a few minutes, exploring different levels and directions.\n",
    "- When you're ready, slowly come to a stop.\n",
    "\n",
    "### Reflections\n",
    "\n",
    "- How did you feel\n",
    "- What did you draw?\n",
    "- What orientation did your image face?"
   ]
  },
  {
   "cell_type": "markdown",
   "id": "fb9bd46f-1ff2-4958-b3e4-db8d8ea00f5c",
   "metadata": {},
   "source": [
    "## Trace Example\n",
    "\n",
    "Move around the below code in danceON in the same way we just did in embodiment exercise."
   ]
  },
  {
   "cell_type": "code",
   "execution_count": null,
   "id": "80911107-79a4-443f-b69e-939af9d3f268",
   "metadata": {},
   "outputs": [],
   "source": [
    "#| eval: false\n",
    "#| code-fold: false\n",
    "\n",
    "(pose, poseHistory) => [\n",
    "    {\n",
    "        what: 'circle',\n",
    "        where: {\n",
    "            x: pastParts(poseHistory, 'leftWrist', 'x', 0, 30, 1),\n",
    "            y: pastParts(poseHistory, 'leftWrist', 'y', 0, 30, 1)\n",
    "        },\n",
    "        how: {\n",
    "            fill: \"white\",\n",
    "        },\n",
    "    } // left wrist trace\n",
    "];"
   ]
  },
  {
   "cell_type": "markdown",
   "id": "28c90c51-a6f0-47eb-bb0f-c2a78a9abada",
   "metadata": {},
   "source": [
    "## When Condition {#sec-conditionals}\n",
    "\n",
    "In danceON, conditionals can enable some crazy interactivity for your animations. To understand when conditions in danceON, you will need to grasp two aspects: the logic of conditionals and the variety of movement states in choreography.\n",
    "\n",
    "## Exercise 1\n",
    "Given the two examples, play with conditionals. \n",
    "Define what movement can be determined by danceON.\n",
    "\n",
    "### Example 1\n",
    "<video width=\"100%\" height=\"100%\" controls>\n",
    "  <source src=\"https://user-images.githubusercontent.com/51350490/242407423-4e764281-4687-443d-b2f2-2b1beadaa263.mp4\" type=\"video/mp4\">\n",
    "</video>"
   ]
  },
  {
   "cell_type": "code",
   "execution_count": 4,
   "id": "848e8d4b-09a1-4113-9a46-52e958027711",
   "metadata": {
    "tags": []
   },
   "outputs": [
    {
     "ename": "SyntaxError",
     "evalue": "invalid decimal literal (1062715788.py, line 8)",
     "output_type": "error",
     "traceback": [
      "\u001b[0;36m  Cell \u001b[0;32mIn [4], line 8\u001b[0;36m\u001b[0m\n\u001b[0;31m    // Pinegrove - Need (https://youtu.be/9hGRSY-oRqk)\u001b[0m\n\u001b[0m                                          ^\u001b[0m\n\u001b[0;31mSyntaxError\u001b[0m\u001b[0;31m:\u001b[0m invalid decimal literal\n"
     ]
    }
   ],
   "source": [
    "#| eval: false\n",
    "#| code-fold: false\n",
    "\n",
    "(pose) => [\n",
    "    // i think \n",
    "    // she thinks \n",
    "    // i think too much\n",
    "    // Pinegrove - Need (https://youtu.be/9hGRSY-oRqk)\n",
    "    \n",
    "    // Text appears in over my head at different positions of the screen\n",
    "    // No map function\n",
    "    {\n",
    "        what: 'text',\n",
    "        when: pose.nose.x < 200,\n",
    "        where: {\n",
    "            x: pose.nose.x,\n",
    "            y: pose.nose.y - 100,\n",
    "        },\n",
    "        how: {\n",
    "            str: \"i think\",\n",
    "            fill: color(255, 255, 255, 255),\n",
    "        },\n",
    "    }, // Move to the left\n",
    "    {\n",
    "        what: 'text',\n",
    "        when: (pose.nose.x > 350),\n",
    "        where: {\n",
    "            x: pose.nose.x,\n",
    "            y: pose.nose.y - 100,\n",
    "        },\n",
    "        how: {\n",
    "            str: \"she thinks\",\n",
    "            fill: color(255, 105, 180, 255), \n",
    "        },\n",
    "    }, // Move to the right\n",
    "    {\n",
    "        what: 'text',\n",
    "        when: pose.rightWrist.y < pose.nose.y, \n",
    "        where: {\n",
    "            x: pose.nose.x,\n",
    "            y: pose.nose.y - 100,\n",
    "        },\n",
    "        how: {\n",
    "            str: \"i think too much\",\n",
    "            fill: color(255, 255, 255, 255), \n",
    "        },\n",
    "    } // Wrist above my nose\n",
    "];"
   ]
  },
  {
   "cell_type": "markdown",
   "id": "c4df6d74-42d3-43eb-a9a4-fcad6c8626c3",
   "metadata": {},
   "source": [
    "### Example 2"
   ]
  },
  {
   "cell_type": "markdown",
   "id": "d93bf6ed-b9ac-4336-a200-82e16e7e392a",
   "metadata": {},
   "source": [
    "<video width=\"100%\" height=\"100%\" controls>\n",
    "  <source src=\"https://user-images.githubusercontent.com/51350490/242408388-3b55cba4-522c-43cd-8206-909d68b8f605.mp4\" type=\"video/mp4\">\n",
    "</video>"
   ]
  },
  {
   "cell_type": "markdown",
   "id": "43aff2fd-735b-4c63-af30-0330342fad9f",
   "metadata": {},
   "source": [
    "There are two version of code for this example.\n",
    "\n",
    "The first one saves the math operation of the when conditionals in variables."
   ]
  },
  {
   "cell_type": "code",
   "execution_count": null,
   "id": "ff4a65c9-9ba8-4b9c-ad19-998ad897a2da",
   "metadata": {},
   "outputs": [],
   "source": [
    "#| eval: false\n",
    "#| code-fold: false\n",
    "\n",
    "(pose) => {\n",
    "\n",
    "    // define variables and functions\n",
    "    let bentOver = (abs(pose.nose.y-pose.leftHip.y))<100;\n",
    "    let leanRight = pose.nose.x>pose.leftHip.x;\n",
    "    let leanLeft = pose.nose.x<pose.leftHip.x\n",
    "    // return objects\n",
    "return [\n",
    "    {\n",
    "        what: 'rect',\n",
    "        when:bentOver && leanLeft,\n",
    "        where: {\n",
    "            x: pose.nose.x+abs(pose.nose.x-pose.leftHip.x)*0.1,\n",
    "            y: pose.leftHip.y-300\n",
    "        },\n",
    "        how: {\n",
    "            fill: \"#c76b67\",\n",
    "            h: 200,\n",
    "            w: abs(pose.nose.x-pose.leftHip.x)*0.8,\n",
    "        },\n",
    "    },\n",
    "        {\n",
    "        what: 'rect',\n",
    "        when: bentOver && leanRight,\n",
    "        where: {\n",
    "            x: pose.leftHip.x+abs(pose.nose.x-pose.leftHip.x)*0.1,\n",
    "            y: pose.leftHip.y-300\n",
    "        },\n",
    "        how: {\n",
    "            fill: \"#c76b67\",\n",
    "            h: 200,\n",
    "            w: abs(pose.nose.x-pose.leftHip.x)*0.8,\n",
    "        },\n",
    "    }//backing a brick whenever I bend over\n",
    "];}"
   ]
  },
  {
   "cell_type": "markdown",
   "id": "c097d3cb-68f1-484d-859c-845733a2752e",
   "metadata": {},
   "source": [
    "The second one does the math operations directly in the conditionals."
   ]
  },
  {
   "cell_type": "code",
   "execution_count": 5,
   "id": "14893e42-b893-4812-9284-00548abf8408",
   "metadata": {
    "tags": []
   },
   "outputs": [
    {
     "ename": "SyntaxError",
     "evalue": "invalid syntax (2001643409.py, line 4)",
     "output_type": "error",
     "traceback": [
      "\u001b[0;36m  Cell \u001b[0;32mIn [5], line 4\u001b[0;36m\u001b[0m\n\u001b[0;31m    (pose) => [\u001b[0m\n\u001b[0m            ^\u001b[0m\n\u001b[0;31mSyntaxError\u001b[0m\u001b[0;31m:\u001b[0m invalid syntax\n"
     ]
    }
   ],
   "source": [
    "#| eval: false\n",
    "#| code-fold: false\n",
    "\n",
    "(pose) => [\n",
    "    {\n",
    "        what: 'rect',\n",
    "        when:(abs(pose.nose.y-pose.leftHip.y))<100 && pose.nose.x<pose.leftHip.x,\n",
    "        where: {\n",
    "            x: pose.nose.x+abs(pose.nose.x-pose.leftHip.x)*0.1,\n",
    "            y: pose.leftHip.y-300\n",
    "        },\n",
    "        how: {\n",
    "            fill: \"#c76b67\",\n",
    "            h: 200,\n",
    "            w: abs(pose.nose.x-pose.leftHip.x)*0.8,\n",
    "        },\n",
    "    },\n",
    "        {\n",
    "        what: 'rect',\n",
    "        when:(abs(pose.nose.y-pose.leftHip.y))<100 && pose.nose.x>pose.leftHip.x,\n",
    "        where: {\n",
    "            x: pose.leftHip.x+abs(pose.nose.x-pose.leftHip.x)*0.1,\n",
    "            y: pose.leftHip.y-300\n",
    "        },\n",
    "        how: {\n",
    "            fill: \"#c76b67\",\n",
    "            h: 200,\n",
    "            w: abs(pose.nose.x-pose.leftHip.x)*0.8,\n",
    "        },\n",
    "    }//backing a brick whenever I bend over\n",
    "];"
   ]
  },
  {
   "cell_type": "markdown",
   "id": "c85adcad-53a5-4e46-8764-6d4f488cda65",
   "metadata": {},
   "source": [
    "The two version of the code basically does the same things. The first one factored the bending movement out into two parts based on the computer logic.\n",
    "\n",
    "- Which one is more interdisciplinary?\n",
    "- Which one is more accessible?\n",
    "- How does the \"better\" example scaffold the concept of conditionals better? \n",
    "- How about the movement concepts?"
   ]
  },
  {
   "cell_type": "markdown",
   "id": "e0f7ca2a-dab8-4d50-8dc5-79823b11892b",
   "metadata": {},
   "source": [
    "## Exercise 2\n",
    "\n",
    "Currently you should have some basic understanding of shapes and how features. Think of a movement.\n",
    "The movement should have two significant modes of movement that you think danceON can sense.\n",
    "**GIVE IT TO YOUR PEERS**, and design a piece of code with your peer’s movement in mind. \n",
    "\n",
    "Focus on the movement and think about what and how the code will enhance your movement.\n",
    "Think about how to use code to distinguish between the two modes of movement."
   ]
  },
  {
   "cell_type": "markdown",
   "id": "42759623-9b4a-4565-9521-873b5b579167",
   "metadata": {},
   "source": [
    "## Co-design Workshop\n",
    "\n",
    "Design a worksheet/example code/example movements/activities for to teach students about conditionals through a interdisciplinary lens."
   ]
  }
 ],
 "metadata": {
  "kernelspec": {
   "display_name": "Python 3 (ipykernel)",
   "language": "python",
   "name": "python3"
  },
  "language_info": {
   "codemirror_mode": {
    "name": "ipython",
    "version": 3
   },
   "file_extension": ".py",
   "mimetype": "text/x-python",
   "name": "python",
   "nbconvert_exporter": "python",
   "pygments_lexer": "ipython3",
   "version": "3.10.6"
  }
 },
 "nbformat": 4,
 "nbformat_minor": 5
}
