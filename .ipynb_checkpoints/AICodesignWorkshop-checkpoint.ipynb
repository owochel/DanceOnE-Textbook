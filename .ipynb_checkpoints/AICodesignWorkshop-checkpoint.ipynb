{
 "cells": [
  {
   "cell_type": "raw",
   "id": "7397e89c-1dc2-4721-8c37-94ac595c35e6",
   "metadata": {},
   "source": [
    "\n",
    "---\n",
    "title: \"Designing Activities\"\n",
    "toc: true\n",
    "toc-title: List of Contents\n",
    "execute:\n",
    "  enabled: true\n",
    "format: \n",
    "  html:\n",
    "    code-fold: true\n",
    "jupyter: python3\n",
    "---"
   ]
  },
  {
   "cell_type": "markdown",
   "id": "8ea14fd3-067a-4013-bf90-919f4e520eea",
   "metadata": {},
   "source": [
    "## Getting started\n",
    "\n",
    "Let’s think back to the discussions we’ve had today about machine learning, AI, the opportunities and limits around AI. What are the ways in which you’ve seen or experienced these conversations within or among your own students or communities?\n",
    "\n",
    "Given your practices within STEM and dance, what are the ways in which you could integrate the activities and ideas from these last 2 sessions into your own contexts and practices?\n",
    "\n",
    "\n",
    "## Designing Learning Activities Across Dance and AI\n",
    "\n",
    "Think about some (1 to 3) learning activities for learners across dance and AI/machine learning using danceON (and/or Teachable Machine) — write or sketch out these learning activities on paper or index cards.\n",
    "\n",
    "Some questions to think about as you design your learning activities:\n",
    "\n",
    "1. What are the coding, AI, STEM, or dance concepts that you are teaching about in your activities?\n",
    "2. How are you incorporating coding, AI, and STEM concepts into dance and vice-versa?\n",
    "3. What role does danceON play in your activities?\n",
    "4. Are there prerequisite skills, concepts, or ideas that students may need to engage in your activities?\n",
    "5. How do you bring students’ prior knowledge or experiences into this activity? How do you create space for students to bring their prior knowledge or experiences into this activity?\n",
    "6. How do you incorporate critique of ideas within these activities?\n",
    "\n",
    "**Group share-out**: After sketching out your learning activities, take some time to share and discuss with the group your learning activity ideas. \n",
    "\n",
    "\n",
    "## Wrap-up: Online textbook format\n",
    "\n",
    "Briefly discuss the following questions about the online textbook with the group:\n",
    "\n",
    "1. What challenges did you face while using the online textbook?\n",
    "2. In what ways was the online textbook helpful or beneficial during the sessions?\n",
    "3. What would you need us to change for you to be able to actually implement or use the online textbook format with students?\n",
    "4. If the online textbook format was updated for your needs, how would you imagine using it with students?\n",
    "\n",
    "(Or fill out this short [survey](https://nyu.qualtrics.com/jfe/form/SV_8wceZLpYRyG8FlI))\n"
   ]
  }
 ],
 "metadata": {
  "kernelspec": {
   "display_name": "Python 3 (ipykernel)",
   "language": "python",
   "name": "python3"
  },
  "language_info": {
   "codemirror_mode": {
    "name": "ipython",
    "version": 3
   },
   "file_extension": ".py",
   "mimetype": "text/x-python",
   "name": "python",
   "nbconvert_exporter": "python",
   "pygments_lexer": "ipython3",
   "version": "3.10.6"
  }
 },
 "nbformat": 4,
 "nbformat_minor": 5
}
