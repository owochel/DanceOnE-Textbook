{
 "cells": [
  {
   "cell_type": "raw",
   "id": "81eeac8e-8b11-4ec3-8c74-12ff74e1da6a",
   "metadata": {},
   "source": [
    "---\n",
    "title: \"Observation and Ideation\"\n",
    "toc: true\n",
    "toc-title: List of Contents\n",
    "execute:\n",
    "  enabled: true\n",
    "format: \n",
    "  html:\n",
    "    code-fold: true\n",
    "jupyter: python3\n",
    "---"
   ]
  },
  {
   "cell_type": "markdown",
   "id": "11917629-a893-4666-bbe9-abe32d52e673",
   "metadata": {},
   "source": [
    "## Observation {#sec-observation}\n",
    "\n",
    "Now that we know the basics about DanceON, it is time to make our own art pieces. It could be intimidating to start with a blank canvas, but you should not be scared. In this section we will have a look at some art pieces in different medium from various artists that can be insipring for creations in DanceON. Maybe the method introduced here can help you develop your own master piece.\n"
   ]
  },
  {
   "cell_type": "markdown",
   "id": "280d0419-25e4-451e-98f7-fddc94dce872",
   "metadata": {},
   "source": [
    "::: {.callout-note appearance=\"simple\"}\n",
    "\n",
    "There should not be one correct way to observe and describe an image. Even using the same method, two person can still recreate a image through compeletely different process of observation. The process documented here should only be a guidance that helps you practice observation in art. The goal is to have your own way observing art pieces.\n",
    "\n",
    ":::"
   ]
  },
  {
   "cell_type": "markdown",
   "id": "f1fd785d-52db-40bb-b3ea-fd097f4cbc4f",
   "metadata": {},
   "source": [
    "One of the ways to practice observing a image is to describe the image as if you are to recreate it. When observing static 2D art pieces such as images or pictures, you can use as simple as a pencil and a scrap paper as your imagined medium of recreation, but you can also use danceON.\n",
    "\n",
    "Take a look at the image below. It is [John Baldessari's Umbrella (Orange): With Figure and Ball (Blue, Green) at Guggenheim Museume Collection Online](https://www.guggenheim.org/artwork/13308)."
   ]
  },
  {
   "cell_type": "markdown",
   "id": "1bf24ec9-ee74-4784-8db5-7c4b0161a3e6",
   "metadata": {},
   "source": [
    "![Umbrella (Orange): With Figure and Ball (Blue, Green), John Baldessari, 2004](./asset/observation/baldessariUmbrella.jpeg){#fig-umbrella}"
   ]
  },
  {
   "cell_type": "markdown",
   "id": "76f6e3b7-7572-45ad-94fd-edf4119a77d9",
   "metadata": {},
   "source": [
    "To recreate this, there are a few things that I pay attention to:\n",
    "- the composition of the image\n",
    "    - where everything is\n",
    "    - how each thing is positioned\n",
    "- the depth of the image\n",
    "    - how many layers of things there are\n",
    "    - what their order and relations are\n",
    "- the details of each thing\n",
    "    - what colors/patterns they have\n",
    "    - what specific properties each thing has\n",
    "\n",
    "    "
   ]
  },
  {
   "cell_type": "markdown",
   "id": "dab8519a-a7d8-49c0-91be-8f3e61b6877d",
   "metadata": {},
   "source": [
    "How dancer describe the movement? -- On line dance education?\n",
    "        -- New York City DOE Professional Models\n",
    "\n",
    "DanceON -- Case-based Reasoning: Code helping with analysis\n",
    "        -- Positions of dancers\n",
    "        \n",
    "Stand from dance "
   ]
  }
 ],
 "metadata": {
  "kernelspec": {
   "display_name": "Python 3 (ipykernel)",
   "language": "python",
   "name": "python3"
  },
  "language_info": {
   "codemirror_mode": {
    "name": "ipython",
    "version": 3
   },
   "file_extension": ".py",
   "mimetype": "text/x-python",
   "name": "python",
   "nbconvert_exporter": "python",
   "pygments_lexer": "ipython3",
   "version": "3.10.6"
  }
 },
 "nbformat": 4,
 "nbformat_minor": 5
}
