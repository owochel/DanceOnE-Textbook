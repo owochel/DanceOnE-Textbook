{
 "cells": [
  {
   "cell_type": "raw",
   "id": "19e335f0-1925-4828-96bd-91a23fd19d97",
   "metadata": {},
   "source": [
    "---\n",
    "title: \"Coordinates System\"\n",
    "toc: true\n",
    "toc-title: List of Contents\n",
    "execute:\n",
    "  enabled: true\n",
    "format: \n",
    "  html:\n",
    "    code-fold: true\n",
    "jupyter: python3\n",
    "---"
   ]
  },
  {
   "cell_type": "markdown",
   "id": "8776c2d1-722b-4e14-8b78-4b3f50f45bd4",
   "metadata": {
    "tags": []
   },
   "source": [
    "## Definition\n",
    "\n",
    "In danceOn, all shapes drawn to the screen have a position that is specified as a coordinate. All coordinates are measured as the distance from the origin in units of pixels. The coordinates are represented as **x** and **y** in danceOn. **x** represents where the object is on the horizontal axis, and **y** represents where the object is on the vertical axis. At the origin, being the **upper left** of the window, both the coordinate x and coordinate y are 0. At the **lower right** of the window, x is width-1, and y is height-1."
   ]
  },
  {
   "cell_type": "markdown",
   "id": "eb68a0ee-4f5b-4c02-8227-d84817a6863c",
   "metadata": {},
   "source": [
    "As a result, the coordinates system in dance on could be understand as @fig-coordmap."
   ]
  },
  {
   "cell_type": "markdown",
   "id": "768d9523-ce20-4ae5-8adf-992c55a8b6d5",
   "metadata": {},
   "source": [
    "![A coordinates system map that shows 4 different points for (red) {x: 0, y:0}, (purple) {x: 0, y:height-1}, (orange) {x: width-1, y: 0}, (pink){x: width-1, y: height-1}](./asset/coordinates.png){#fig-coordmap}"
   ]
  },
  {
   "cell_type": "markdown",
   "id": "fbc4f429-2ba7-4229-ab30-ab19182309a7",
   "metadata": {},
   "source": [
    "This **x** and **y** expression are universal in the languages for danceOn. It is common to find **x** and **y** used to express things related to the cordinate systems.\n",
    "\n",
    "When you see **x** and **y** at the begining of a line where they appears by themselves such as **\"x:\"** or **\"y:\"**, it means you are **defining** the location of the object you are currently programming. \n",
    "\n",
    "However, the **x** and **y** are also used to express some pre-defined location variables for poses. For instance, you may see the name for poses are called something like *\"pose.nose.**x**\"* or *\"pose.leftWrist.**y**\"*. When the **x** and **y** appears as a suffix after body parts names, they are used to express the specific numbers of cordinates of the body parts at different times. "
   ]
  },
  {
   "cell_type": "raw",
   "id": "2f95da11-146d-4dad-a9cb-95da016341b5",
   "metadata": {},
   "source": [
    "::: {.callout-note appearance=\"simple\"}\n",
    "Why would you also use **x** and **y** for *\"pose.nose.**x**\"* and *\"pose.leftWrist.**y**\"* instead of numbers?\n",
    "\n",
    "- Observer the location of the poses keypoints (nose,leftWrist, leftEye, etc) on your danceOn canvas, you may easily find out that the locations of the key points changes throughout the progression of your videos/webcame recordings. Becasue we are dealing with numbers that are constantly changing when refering to cordinates of the pose keypoints, it is easier to represent the location with **variables**(names for changing numbers). \n",
    "\n",
    "\n",
    "- Having **x** and **y** as the names indicates that they are in the same cordinates system with your object -- **\"x:\"** or **\"y:\"**.\n",
    ":::"
   ]
  },
  {
   "cell_type": "code",
   "execution_count": null,
   "id": "14f5b168-b5b7-4fa6-b864-f4f09d8fd402",
   "metadata": {},
   "outputs": [],
   "source": [
    "#| label: importing packages\n",
    "#| include: false\n",
    "\n",
    "import sys\n",
    "!pip3 install jupyterquiz\n",
    "!pip3 install jupytercards\n",
    "import jupyterquiz as qz\n",
    "import jupytercards as cd\n"
   ]
  },
  {
   "cell_type": "markdown",
   "id": "2c7fe4fc-ba36-40c1-b14f-044f2fe92032",
   "metadata": {},
   "source": [
    "## Practices\n",
    "Follow the instructions and develop on them in your own danceOn interfaces. For this practice, you can use either the original pre-recorded video or your own webcam.\n",
    "\n",
    "### Practice 1\n",
    "\n",
    "Copy the code cell into your danceOn code editor (you may use the copy button on the top right corner). Currently, there should be a red circle on the top left corner of the code cell.\n",
    "\n",
    "Do the following adjustments to only the numbers after **x:** and **y:**. See how the red circles changed on the canvas.\n",
    "\n",
    "- Increase/decrease the numbers. Observe and think of the below questions\n",
    "    - In which direction does x get bigger?\n",
    "    - In which direction does y get bigger?"
   ]
  },
  {
   "cell_type": "code",
   "execution_count": 7,
   "id": "ef316386-a3bd-4cca-8fd1-4083210d963c",
   "metadata": {},
   "outputs": [
    {
     "ename": "SyntaxError",
     "evalue": "invalid syntax (2673099575.py, line 3)",
     "output_type": "error",
     "traceback": [
      "\u001b[0;36m  Cell \u001b[0;32mIn [7], line 3\u001b[0;36m\u001b[0m\n\u001b[0;31m    (pose) => [\u001b[0m\n\u001b[0m            ^\u001b[0m\n\u001b[0;31mSyntaxError\u001b[0m\u001b[0;31m:\u001b[0m invalid syntax\n"
     ]
    }
   ],
   "source": [
    "#| eval: false\n",
    "#| code-fold: false\n",
    "(pose) => [\n",
    "        {\n",
    "        what: 'circle',\n",
    "        when: true,\n",
    "\n",
    "        where: {\n",
    "            x: 0,\n",
    "            y: 0\n",
    "        },\n",
    "        how:{\n",
    "            d:150,\n",
    "            fill:'red'\n",
    "        }\n",
    "    },\n",
    "];\n"
   ]
  },
  {
   "cell_type": "markdown",
   "id": "8de17f8e-c0b5-4715-bc83-e12aa08e5afa",
   "metadata": {},
   "source": [
    "### Practice 2\n",
    "- Change the numbers to body poses based on the references tab for poses' all keypoints\n",
    "    - e.g. copy this chunk and replace it to the where brackets, change the pose.nose.x to different things\n",
    "    - What does the **x** in **pose.nose.x** and **y** in **pose.nose.y** mean?\n"
   ]
  },
  {
   "cell_type": "code",
   "execution_count": null,
   "id": "11491bef-61cb-4c7e-ac7f-57eb66c4927c",
   "metadata": {},
   "outputs": [],
   "source": [
    "#| eval: false\n",
    "#| code-fold: false\n",
    "\n",
    "where: {\n",
    "    x: pose.nose.x,\n",
    "    y: pose.nose.y\n",
    "},"
   ]
  },
  {
   "cell_type": "markdown",
   "id": "cd03b7a5-1220-4002-bbff-8689231225ea",
   "metadata": {},
   "source": [
    "## Challenge Questions\n",
    "\n",
    "Copy the code cell into your danceOn code editor. Perferably turn on your webcam for this exercise. Play with the code to describe what the code is doing in sentences like: \"**The circle moves to the right when my nose goes up/down/left/right.**\"\n",
    "\n",
    "Feel free to play with the code to create more complicated "
   ]
  },
  {
   "cell_type": "raw",
   "id": "8dd12491-2641-4043-8473-72dcf7bfd1a9",
   "metadata": {},
   "source": [
    "::: {.callout-note appearance=\"simple\"}\n",
    "Note: Pay attention to the things that goes after the **\"x:\"** and **\"y:\"** !\n",
    ":::"
   ]
  },
  {
   "cell_type": "code",
   "execution_count": null,
   "id": "c9f7cdef-e9aa-45e8-88ad-315c488acd8e",
   "metadata": {},
   "outputs": [],
   "source": [
    "#| eval: false\n",
    "#| code-fold: false\n",
    "(pose) => [\n",
    "        {\n",
    "        what: 'circle',\n",
    "        when: true,\n",
    "\n",
    "        where: {\n",
    "            x: pose.nose.y,\n",
    "            y: pose.nose.x\n",
    "        },\n",
    "        how:{\n",
    "            d:150,\n",
    "            fill:'red'\n",
    "        }\n",
    "    },\n",
    "];\n"
   ]
  },
  {
   "cell_type": "markdown",
   "id": "3e0856dc-197c-4f98-a6cf-37693369d6ac",
   "metadata": {},
   "source": [
    "## Flashcards\n",
    "Go through the flashcards to review some of the concepts of the coordinates system."
   ]
  },
  {
   "cell_type": "code",
   "execution_count": null,
   "id": "6772c5d6-047b-4031-b0c6-9ae2e12bc3d6",
   "metadata": {},
   "outputs": [],
   "source": [
    "#| label: creating the cards\n",
    "#| echo: false\n",
    "\n",
    "cards='''\n",
    "\n",
    "## Where is the origin for the cordinates system in danceOn?\n",
    "Top left corner\n",
    "\n",
    "## What's the x and y cordinates of the origin?\n",
    "Both x and y is 0.\n",
    "\n",
    "'''\n",
    "\n",
    "from jupytercards import display_flashcards\n",
    "from jupytercards import md2json, display_flashcards\n",
    "\n",
    "myjson=md2json(cards , \"cards.json\")\n",
    "display_flashcards(myjson)\n"
   ]
  },
  {
   "cell_type": "code",
   "execution_count": null,
   "id": "60561e24-6707-4153-91f0-6e88f59b3a29",
   "metadata": {},
   "outputs": [],
   "source": []
  },
  {
   "cell_type": "code",
   "execution_count": null,
   "id": "2d680db0-67dd-43b9-b1c1-6e9df46f342e",
   "metadata": {},
   "outputs": [],
   "source": []
  },
  {
   "cell_type": "code",
   "execution_count": null,
   "id": "939c0515-9e15-416a-a0b4-032b21d44ee4",
   "metadata": {},
   "outputs": [],
   "source": []
  }
 ],
 "metadata": {
  "kernelspec": {
   "display_name": "Python 3 (ipykernel)",
   "language": "python",
   "name": "python3"
  },
  "language_info": {
   "codemirror_mode": {
    "name": "ipython",
    "version": 3
   },
   "file_extension": ".py",
   "mimetype": "text/x-python",
   "name": "python",
   "nbconvert_exporter": "python",
   "pygments_lexer": "ipython3",
   "version": "3.10.6"
  }
 },
 "nbformat": 4,
 "nbformat_minor": 5
}
