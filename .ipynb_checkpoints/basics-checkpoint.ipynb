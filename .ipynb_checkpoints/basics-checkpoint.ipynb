{
 "cells": [
  {
   "cell_type": "raw",
   "id": "19e335f0-1925-4828-96bd-91a23fd19d97",
   "metadata": {},
   "source": [
    "---\n",
    "title: \"Interfaces and Languages\"\n",
    "toc: true\n",
    "toc-title: List of Contents\n",
    "execute:\n",
    "  enabled: true\n",
    "format: \n",
    "  html:\n",
    "    code-fold: true\n",
    "jupyter: python3\n",
    "---"
   ]
  },
  {
   "cell_type": "markdown",
   "id": "8776c2d1-722b-4e14-8b78-4b3f50f45bd4",
   "metadata": {
    "tags": []
   },
   "source": [
    "## Interfaces - Code Editor and Canvas\n",
    "\n",
    "The danceOn interfaces is devided into two general parts -- the **code editor** *(on the left)* and the **canvas** *(on the right)*. All the manipulation of the code in the **code editor** will be simultaneously reflected on the **canvas** on the right. See @fig-interface, the pink red square circled out the **code editor**, and the purple square circled out the **canvas**."
   ]
  },
  {
   "cell_type": "markdown",
   "id": "ef288279-a83f-4e15-88cf-671a5bee53c5",
   "metadata": {},
   "source": [
    "![DanceOn Interface](./asset/interface.png){#fig-interface}"
   ]
  }
 ],
 "metadata": {
  "kernelspec": {
   "display_name": "Python 3 (ipykernel)",
   "language": "python",
   "name": "python3"
  },
  "language_info": {
   "codemirror_mode": {
    "name": "ipython",
    "version": 3
   },
   "file_extension": ".py",
   "mimetype": "text/x-python",
   "name": "python",
   "nbconvert_exporter": "python",
   "pygments_lexer": "ipython3",
   "version": "3.10.6"
  }
 },
 "nbformat": 4,
 "nbformat_minor": 5
}
